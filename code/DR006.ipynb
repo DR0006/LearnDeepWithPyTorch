{
 "cells": [
  {
   "cell_type": "code",
   "execution_count": 1,
   "outputs": [
    {
     "name": "stdout",
     "output_type": "stream",
     "text": [
      "\n",
      "GPU details:\n",
      "    gpu_is_available      :  True\n",
      "    cuda_device_count     :  1\n",
      "    cuda_device_name      :  NVIDIA GeForce RTX 3050 Ti Laptop GPU\n",
      "    cuda_device_capability:  (8, 6)\n"
     ]
    }
   ],
   "source": [
    "import torch\n",
    "\n",
    "def gpu_is_available():\n",
    "    print('\\nGPU details:')\n",
    "    print(f'    gpu_is_available      : ', torch.cuda.is_available())\n",
    "    print(f'    cuda_device_count     : ', torch.cuda.device_count())\n",
    "    print(f'    cuda_device_name      : ', torch.cuda.get_device_name())\n",
    "    print(f'    cuda_device_capability: ', torch.cuda.get_device_capability(0))\n",
    "\n",
    "gpu_is_available()"
   ],
   "metadata": {
    "collapsed": false
   }
  },
  {
   "cell_type": "code",
   "execution_count": 2,
   "outputs": [
    {
     "data": {
      "text/plain": "device(type='cuda')"
     },
     "execution_count": 2,
     "metadata": {},
     "output_type": "execute_result"
    }
   ],
   "source": [
    "device = torch.device('cuda' if torch.cuda.is_available() else 'cpu')\n",
    "device"
   ],
   "metadata": {
    "collapsed": false
   }
  }
 ],
 "metadata": {
  "kernelspec": {
   "display_name": "Python 3",
   "language": "python",
   "name": "python3"
  },
  "language_info": {
   "codemirror_mode": {
    "name": "ipython",
    "version": 2
   },
   "file_extension": ".py",
   "mimetype": "text/x-python",
   "name": "python",
   "nbconvert_exporter": "python",
   "pygments_lexer": "ipython2",
   "version": "2.7.6"
  }
 },
 "nbformat": 4,
 "nbformat_minor": 0
}
