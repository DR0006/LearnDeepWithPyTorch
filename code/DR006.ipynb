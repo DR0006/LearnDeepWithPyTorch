{
 "cells": [
  {
   "cell_type": "code",
   "execution_count": 2,
   "outputs": [
    {
     "name": "stdout",
     "output_type": "stream",
     "text": [
      "\n",
      "GPU details:\n",
      "    gpu_is_available      :  True\n",
      "    cuda_device_count     :  1\n",
      "    cuda_device_name      :  NVIDIA GeForce RTX 3050 Ti Laptop GPU\n",
      "    cuda_device_capability:  (8, 6)\n"
     ]
    }
   ],
   "source": [
    "import torch\n",
    "\n",
    "\n",
    "def gpu_is_available():\n",
    "    print('\\nGPU details:')\n",
    "    print(f'    gpu_is_available      : ', torch.cuda.is_available())\n",
    "    print(f'    cuda_device_count     : ', torch.cuda.device_count())\n",
    "    print(f'    cuda_device_name      : ', torch.cuda.get_device_name())\n",
    "    print(f'    cuda_device_capability: ', torch.cuda.get_device_capability(0))\n",
    "\n",
    "\n",
    "gpu_is_available()"
   ],
   "metadata": {
    "collapsed": false
   }
  },
  {
   "cell_type": "code",
   "execution_count": 3,
   "outputs": [
    {
     "name": "stdout",
     "output_type": "stream",
     "text": [
      "\n",
      "GPU Memory details:\n",
      "    total_memory: 4095.5 MB\n",
      "    allocated_memory: 0.0 MB\n",
      "    reserved_memory: 0.0 MB\n"
     ]
    }
   ],
   "source": [
    "def gpu_memory_info():\n",
    "    if torch.cuda.is_available():\n",
    "        print('\\nGPU Memory details:')\n",
    "        device = torch.cuda.current_device()\n",
    "        mem_info = torch.cuda.get_device_properties(device)\n",
    "\n",
    "        print(f'    total_memory: {mem_info.total_memory / (1024 ** 2)} MB')\n",
    "        print(f'    allocated_memory: {torch.cuda.memory_allocated(device) / (1024 ** 2)} MB')\n",
    "        print(f'    reserved_memory: {torch.cuda.memory_reserved(device) / (1024 ** 2)} MB')\n",
    "\n",
    "gpu_memory_info()"
   ],
   "metadata": {
    "collapsed": false
   }
  },
  {
   "cell_type": "code",
   "execution_count": 2,
   "outputs": [
    {
     "data": {
      "text/plain": "device(type='cuda')"
     },
     "execution_count": 2,
     "metadata": {},
     "output_type": "execute_result"
    }
   ],
   "source": [
    "device = torch.device('cuda' if torch.cuda.is_available() else 'cpu')\n",
    "device"
   ],
   "metadata": {
    "collapsed": false
   }
  },
  {
   "cell_type": "code",
   "execution_count": 3,
   "outputs": [],
   "source": [
    "def accuracy(outputs, labels):\n",
    "    _, pred_s = torch.max(outputs, dim=1)\n",
    "    return torch.tensor(torch.sum(torch.Tensor(pred_s == labels)).item() / len(pred_s), dtype=torch.float32)\n",
    "\n",
    "\n",
    "@torch.no_grad()\n",
    "def evaluate(model, val_loader):\n",
    "    \"\"\"评估模型在验证集上的性能\"\"\"\n",
    "    model.eval()\n",
    "    outputs = [model.validation_step(batch) for batch in val_loader]\n",
    "    return model.validation_epoch_end(outputs)\n",
    "\n",
    "\n",
    "def get_default_device():\n",
    "    \"\"\"获取默认设备，如果有 GPU 则选择 GPU，否则选择 CPU\"\"\"\n",
    "    if torch.cuda.is_available():\n",
    "        return torch.device('cuda')\n",
    "    else:\n",
    "        return torch.device('cpu')\n",
    "\n",
    "\n",
    "def to_device(data, device):\n",
    "    \"\"\"将张量（或张量组成的列表/元组）移动到指定的设备\"\"\"\n",
    "    if isinstance(data, (list, tuple)):\n",
    "        return [to_device(x, device) for x in data]\n",
    "    return data.to(device, non_blocking=True)\n",
    "\n",
    "\n",
    "class DeviceDataLoader:\n",
    "    \"\"\"包装数据加载器，将数据移动到指定设备上\"\"\"\n",
    "\n",
    "    def __init__(self, dl, device):\n",
    "        self.dl = dl\n",
    "        self.device = device\n",
    "\n",
    "    def __iter__(self):\n",
    "        \"\"\"将数据移动到设备后，产生一个批次的数据\"\"\"\n",
    "        for b in self.dl:\n",
    "            yield to_device(b, self.device)\n",
    "\n",
    "    def __len__(self):\n",
    "        \"\"\"批次数量\"\"\"\n",
    "        return len(self.dl)"
   ],
   "metadata": {
    "collapsed": false
   }
  },
  {
   "cell_type": "code",
   "execution_count": 4,
   "outputs": [],
   "source": [
    "import time\n",
    "import torch.nn as nn\n",
    "import torch.nn.functional as f\n",
    "\n",
    "\n",
    "class ImageClassificationBase(nn.Module):\n",
    "    @staticmethod\n",
    "    def fit(epochs, lr, model, train_loader, val_loader, opt_func=torch.optim.SGD):\n",
    "        \"\"\"训练模型并在每个 epoch 结束后在验证集上评估性能\"\"\"\n",
    "        history = []\n",
    "        optimizer = opt_func(model.parameters(), lr, weight_decay=1e-5)\n",
    "        start_time = time.time()  # 记录开始时间\n",
    "\n",
    "        # 第一阶段：冻结层的初始训练\n",
    "        print(\"第一阶段训练\")\n",
    "        for epoch in range(epochs):\n",
    "            model.train()\n",
    "            train_losses = []\n",
    "            for batch in train_loader:\n",
    "                loss = model.training_step(batch)\n",
    "                train_losses.append(loss)\n",
    "                loss.backward()\n",
    "                optimizer.step()\n",
    "                optimizer.zero_grad()\n",
    "\n",
    "            # 每个 epoch 结束后的验证阶段\n",
    "            result = evaluate(model, val_loader)\n",
    "            result['train_loss'] = torch.stack(train_losses).mean().item()\n",
    "            model.epoch_end(epoch, result)\n",
    "            history.append(result)\n",
    "\n",
    "            end_time = time.time()  # 记录每一轮的结束时间\n",
    "            epoch_time = end_time - start_time  # 计算每一轮的时间\n",
    "            print(f\"第 {epoch + 1} 轮训练时间: {epoch_time // 60} 分 {epoch_time % 60} 秒\")\n",
    "\n",
    "            # 更新最佳模型参数\n",
    "            if result['val_acc'] > model.best_accuracy:\n",
    "                model.best_accuracy = result['val_acc']\n",
    "                model.best_model_state = model.state_dict()\n",
    "\n",
    "        model.load_state_dict(model.best_model_state)\n",
    "        # 解冻层进行微调\n",
    "        for param in model.parameters():\n",
    "            param.requires_grad = True\n",
    "\n",
    "        # 第二阶段：使用较低的学习率进行微调\n",
    "        optimizer = opt_func(model.parameters(), lr=0.0001)\n",
    "        print(\"第二阶段微调\")\n",
    "        for epoch in range(epochs):\n",
    "            model.train()\n",
    "            train_losses = []\n",
    "            for batch in train_loader:\n",
    "                loss = model.training_step(batch)\n",
    "                train_losses.append(loss)\n",
    "                loss.backward()\n",
    "                optimizer.step()\n",
    "                optimizer.zero_grad()\n",
    "\n",
    "            # 每个 epoch 结束后的验证阶段\n",
    "            result = evaluate(model, val_loader)\n",
    "            result['train_loss'] = torch.stack(train_losses).mean().item()\n",
    "            model.epoch_end(epoch, result)\n",
    "            history.append(result)\n",
    "\n",
    "            end_time = time.time()  # 记录每一轮的结束时间\n",
    "            epoch_time = end_time - start_time  # 计算每一轮的时间\n",
    "            print(f\"第 {epoch + 1} 轮训练时间: {epoch_time // 60} 分 {epoch_time % 60} 秒\")\n",
    "\n",
    "            # 更新最佳模型参数\n",
    "            if result['val_acc'] > model.best_accuracy:\n",
    "                model.best_accuracy = result['val_acc']\n",
    "                model.best_model_state = model.state_dict()\n",
    "\n",
    "        end_time = time.time()  # 记录结束时间\n",
    "        total_time = end_time - start_time  # 计算总时间\n",
    "        print(f\"训练总时间: {total_time // 60} 分 {total_time % 60} 秒\")\n",
    "\n",
    "        return history\n",
    "\n",
    "    def training_step(self, batch):\n",
    "        \"\"\"\n",
    "        这里的 f.cross_entropy 会自动应用 softmax 激活函数，并计算交叉熵损失\n",
    "        :param batch:\n",
    "        :return:\n",
    "        \"\"\"\n",
    "        images, labels = batch\n",
    "        out = self(images)  # 生成预测\n",
    "        loss = f.cross_entropy(out, labels)  # 计算损失\n",
    "        return loss\n",
    "\n",
    "    def validation_step(self, batch):\n",
    "        images, labels = batch\n",
    "        out = self(images)  # 生成预测\n",
    "        loss = f.cross_entropy(out, labels)  # 计算损失\n",
    "        acc = accuracy(out, labels)  # 计算准确率\n",
    "        return {'val_loss': loss.detach(), 'val_acc': acc}\n",
    "\n",
    "    @staticmethod\n",
    "    def validation_epoch_end(outputs):\n",
    "        # 将损失列表转换为张量并计算均值\n",
    "        batch_losses = torch.stack([x['val_loss'] for x in outputs])\n",
    "        epoch_loss = batch_losses.mean()\n",
    "\n",
    "        # 将准确率列表转换为张量并计算均值\n",
    "        batch_acc_s = torch.stack([x['val_acc'] for x in outputs])\n",
    "        epoch_acc = batch_acc_s.mean()\n",
    "\n",
    "        return {'val_loss': epoch_loss.item(), 'val_acc': epoch_acc.item()}\n",
    "\n",
    "    @staticmethod\n",
    "    def epoch_end(epoch, result):\n",
    "        print(\n",
    "            f\"第 {epoch + 1} 轮: 训练损失: {result['train_loss']:.4f}, 验证损失: {result['val_loss']:.4f}, \"\n",
    "            f\"验证准确率: {result['val_acc']:.4f}\")\n"
   ],
   "metadata": {
    "collapsed": false
   }
  },
  {
   "cell_type": "code",
   "execution_count": 5,
   "outputs": [],
   "source": [
    "import torchvision.models as models\n",
    "from torchvision.models import ResNet50_Weights\n",
    "\n",
    "\n",
    "# 预训练模型 ResNet-50\n",
    "class ResNet(ImageClassificationBase):\n",
    "    def __init__(self):\n",
    "        super().__init__()\n",
    "        self.best_accuracy = 0.0\n",
    "        self.best_model_state = None  # 最高测试集评分的参数副本\n",
    "        # 使用预训练模型 ResNet-50\n",
    "        self.network = models.resnet50(weights=ResNet50_Weights.DEFAULT)\n",
    "        # 修改模型的第一层，使其适应单通道输入\n",
    "        self.network.conv1 = nn.Conv2d(1, 64, kernel_size=(7, 7), stride=(2, 2), padding=(3, 3), bias=False)\n",
    "        # 替换最后一层全连接层\n",
    "        num_ftrs = self.network.fc.in_features\n",
    "        # dataset2 demo2\n",
    "        self.network.fc = nn.Linear(num_ftrs, 10)  # 数字0-9\n",
    "\n",
    "    def forward(self, xb):\n",
    "        # 使用 sigmoid 函数处理输出\n",
    "        return torch.sigmoid(self.network(xb))\n",
    "\n",
    "    def save_model(self):\n",
    "        \"\"\"\n",
    "        保存模型\n",
    "        \"\"\"\n",
    "        # 转换百分比形式\n",
    "        accuracy_percent = f'{self.best_accuracy * 100:.2f}%'\n",
    "        # 保存最佳模型参数和整个模型\n",
    "        best_model_weights_filename = f'./model/{accuracy_percent}_model_weights.pth'\n",
    "        # best_model_filename = f'./model/{accuracy_percent}_entire_model.pth'\n",
    "        torch.save(self.best_model_state, best_model_weights_filename)\n",
    "        # torch.save(self, best_model_filename)\n",
    "\n",
    "    def load_model_dict(self, path):\n",
    "        \"\"\"\n",
    "        加载模型的权重\n",
    "        :param path: 路径\n",
    "        \"\"\"\n",
    "        self.load_state_dict(torch.load(path))\n",
    "        self.eval()  # 设置为评估模式"
   ],
   "metadata": {
    "collapsed": false
   }
  },
  {
   "cell_type": "code",
   "execution_count": 6,
   "outputs": [],
   "source": [
    "# -*- coding: utf-8 -*-\n",
    "\"\"\"\n",
    "@File  : config.py\n",
    "@author: FxDr\n",
    "@Time  : 2023/11/23 23:16\n",
    "@Description:\n",
    "\"\"\"\n",
    "import torch\n",
    "import torchvision.transforms as transforms  # transforms 模块包含用于图像预处理的各种转换操作\n",
    "\n",
    "# 训练参数\n",
    "num_epochs = 10  # 轮次\n",
    "opt_func = torch.optim.Adam  # 优化器\n",
    "lr = 5.5e-5  # 学习率\n",
    "batch_size = 64  # 批次大小\n",
    "# split_sizes = [55000, 500, 10000]  # 训练集验证集测试集图片数\n",
    "\n",
    "# 转换器，将数据转换为tensor并归一化\n",
    "# 数据增强防止过拟合\n",
    "transformers = {\n",
    "    # 原始处理\n",
    "    'original': transforms.Compose([\n",
    "        transforms.ToTensor(),\n",
    "        transforms.Normalize((0.5,), (0.5,))\n",
    "    ]),\n",
    "    'demo1': transforms.Compose([\n",
    "        transforms.Resize((28, 28)),  # 其实不需要这一步，因为数据集已经是被处理好了的，都是28x28\n",
    "        # 随机图像亮度、对比度、饱和度\n",
    "        transforms.ColorJitter(brightness=0.2, contrast=0.2, saturation=0.2),\n",
    "        # 随机翻转\n",
    "        # transforms.RandomHorizontalFlip(),\n",
    "        transforms.RandomRotation(5),\n",
    "        # 随机放射变化\n",
    "        transforms.RandomAffine(degrees=11, translate=(0.1, 0.1), scale=(0.8, 0.8)),\n",
    "        transforms.ToTensor(),\n",
    "        transforms.Normalize((0.5,), (0.5,))\n",
    "    ]),\n",
    "\n",
    "}"
   ],
   "metadata": {
    "collapsed": false
   }
  },
  {
   "cell_type": "code",
   "execution_count": 12,
   "outputs": [
    {
     "data": {
      "text/plain": "Dataset MNIST\n    Number of datapoints: 60000\n    Root location: ../data\n    Split: Train\n    StandardTransform\nTransform: Compose(\n               Resize(size=(28, 28), interpolation=bilinear, max_size=None, antialias=warn)\n               ColorJitter(brightness=(0.8, 1.2), contrast=(0.8, 1.2), saturation=(0.8, 1.2), hue=None)\n               RandomRotation(degrees=[-5.0, 5.0], interpolation=nearest, expand=False, fill=0)\n               RandomAffine(degrees=[-11.0, 11.0], translate=(0.1, 0.1), scale=(0.8, 0.8))\n               ToTensor()\n               Normalize(mean=(0.5,), std=(0.5,))\n           )"
     },
     "execution_count": 12,
     "metadata": {},
     "output_type": "execute_result"
    }
   ],
   "source": [
    "from torch.utils.data import random_split, DataLoader\n",
    "from torchvision.datasets import MNIST\n",
    "\n",
    "train_dataset = MNIST(root='../data', train=True, transform=transformers['demo1'], download=False)\n",
    "test_dataset = MNIST(root='../data', train=False, transform=transformers['demo1'], download=False)  # 测试集\n",
    "train_dataset"
   ],
   "metadata": {
    "collapsed": false
   }
  },
  {
   "cell_type": "code",
   "execution_count": 13,
   "outputs": [],
   "source": [
    "# 划分训练集为训练集和验证集\n",
    "train_dataset, val_dataset = random_split(train_dataset, [55000, 5000])\n",
    "\n",
    "# 数据加载器\n",
    "# batch_size*2 验证集的批量大小是训练集的两倍\n",
    "train_loader = DataLoader(dataset=train_dataset, batch_size=batch_size, shuffle=True, num_workers=4)\n",
    "val_loader = DataLoader(dataset=val_dataset, batch_size=batch_size * 2, shuffle=False, num_workers=4)"
   ],
   "metadata": {
    "collapsed": false
   }
  },
  {
   "cell_type": "code",
   "execution_count": 14,
   "outputs": [
    {
     "data": {
      "text/plain": "<matplotlib.image.AxesImage at 0x1bcf9f032e0>"
     },
     "execution_count": 14,
     "metadata": {},
     "output_type": "execute_result"
    },
    {
     "data": {
      "text/plain": "<Figure size 640x480 with 1 Axes>",
      "image/png": "[encoded data removed]"
     },
     "metadata": {},
     "output_type": "display_data"
    }
   ],
   "source": [
    "import matplotlib.pyplot as plt\n",
    "\n",
    "plt.rcParams['font.family'] = 'Microsoft YaHei'\n",
    "\n",
    "image, label = train_dataset[0]\n",
    "plt.title(label)\n",
    "plt.imshow(image.squeeze().numpy(), cmap='gray')"
   ],
   "metadata": {
    "collapsed": false
   }
  },
  {
   "cell_type": "code",
   "execution_count": 30,
   "outputs": [
    {
     "data": {
      "text/plain": "<Figure size 1500x300 with 10 Axes>",
      "image/png": "[encoded data removed]"
     },
     "metadata": {},
     "output_type": "display_data"
    }
   ],
   "source": [
    "class_samples = {i: None for i in range(10)}\n",
    "\n",
    "# Find one sample from each class\n",
    "for data, target in train_dataset:\n",
    "    if class_samples[target] is None:\n",
    "        class_samples[target] = data\n",
    "    if all(sample is not None for sample in class_samples.values()):\n",
    "        break\n",
    "\n",
    "# Visualize the samples\n",
    "fig, axs = plt.subplots(1, 10, figsize=(15, 3))\n",
    "for i, (class_idx, sample) in enumerate(class_samples.items()):\n",
    "    axs[i].imshow(sample.squeeze().numpy(), cmap='gray')\n",
    "    axs[i].axis('off')\n",
    "    axs[i].set_title(f'Class {class_idx}')\n",
    "\n",
    "plt.show()"
   ],
   "metadata": {
    "collapsed": false
   }
  },
  {
   "cell_type": "code",
   "execution_count": 19,
   "outputs": [
    {
     "name": "stdout",
     "output_type": "stream",
     "text": [
      "Using device:cuda\n"
     ]
    },
    {
     "data": {
      "text/plain": "ResNet(\n  (network): ResNet(\n    (conv1): Conv2d(1, 64, kernel_size=(7, 7), stride=(2, 2), padding=(3, 3), bias=False)\n    (bn1): BatchNorm2d(64, eps=1e-05, momentum=0.1, affine=True, track_running_stats=True)\n    (relu): ReLU(inplace=True)\n    (maxpool): MaxPool2d(kernel_size=3, stride=2, padding=1, dilation=1, ceil_mode=False)\n    (layer1): Sequential(\n      (0): Bottleneck(\n        (conv1): Conv2d(64, 64, kernel_size=(1, 1), stride=(1, 1), bias=False)\n        (bn1): BatchNorm2d(64, eps=1e-05, momentum=0.1, affine=True, track_running_stats=True)\n        (conv2): Conv2d(64, 64, kernel_size=(3, 3), stride=(1, 1), padding=(1, 1), bias=False)\n        (bn2): BatchNorm2d(64, eps=1e-05, momentum=0.1, affine=True, track_running_stats=True)\n        (conv3): Conv2d(64, 256, kernel_size=(1, 1), stride=(1, 1), bias=False)\n        (bn3): BatchNorm2d(256, eps=1e-05, momentum=0.1, affine=True, track_running_stats=True)\n        (relu): ReLU(inplace=True)\n        (downsample): Sequential(\n          (0): Conv2d(64, 256, kernel_size=(1, 1), stride=(1, 1), bias=False)\n          (1): BatchNorm2d(256, eps=1e-05, momentum=0.1, affine=True, track_running_stats=True)\n        )\n      )\n      (1): Bottleneck(\n        (conv1): Conv2d(256, 64, kernel_size=(1, 1), stride=(1, 1), bias=False)\n        (bn1): BatchNorm2d(64, eps=1e-05, momentum=0.1, affine=True, track_running_stats=True)\n        (conv2): Conv2d(64, 64, kernel_size=(3, 3), stride=(1, 1), padding=(1, 1), bias=False)\n        (bn2): BatchNorm2d(64, eps=1e-05, momentum=0.1, affine=True, track_running_stats=True)\n        (conv3): Conv2d(64, 256, kernel_size=(1, 1), stride=(1, 1), bias=False)\n        (bn3): BatchNorm2d(256, eps=1e-05, momentum=0.1, affine=True, track_running_stats=True)\n        (relu): ReLU(inplace=True)\n      )\n      (2): Bottleneck(\n        (conv1): Conv2d(256, 64, kernel_size=(1, 1), stride=(1, 1), bias=False)\n        (bn1): BatchNorm2d(64, eps=1e-05, momentum=0.1, affine=True, track_running_stats=True)\n        (conv2): Conv2d(64, 64, kernel_size=(3, 3), stride=(1, 1), padding=(1, 1), bias=False)\n        (bn2): BatchNorm2d(64, eps=1e-05, momentum=0.1, affine=True, track_running_stats=True)\n        (conv3): Conv2d(64, 256, kernel_size=(1, 1), stride=(1, 1), bias=False)\n        (bn3): BatchNorm2d(256, eps=1e-05, momentum=0.1, affine=True, track_running_stats=True)\n        (relu): ReLU(inplace=True)\n      )\n    )\n    (layer2): Sequential(\n      (0): Bottleneck(\n        (conv1): Conv2d(256, 128, kernel_size=(1, 1), stride=(1, 1), bias=False)\n        (bn1): BatchNorm2d(128, eps=1e-05, momentum=0.1, affine=True, track_running_stats=True)\n        (conv2): Conv2d(128, 128, kernel_size=(3, 3), stride=(2, 2), padding=(1, 1), bias=False)\n        (bn2): BatchNorm2d(128, eps=1e-05, momentum=0.1, affine=True, track_running_stats=True)\n        (conv3): Conv2d(128, 512, kernel_size=(1, 1), stride=(1, 1), bias=False)\n        (bn3): BatchNorm2d(512, eps=1e-05, momentum=0.1, affine=True, track_running_stats=True)\n        (relu): ReLU(inplace=True)\n        (downsample): Sequential(\n          (0): Conv2d(256, 512, kernel_size=(1, 1), stride=(2, 2), bias=False)\n          (1): BatchNorm2d(512, eps=1e-05, momentum=0.1, affine=True, track_running_stats=True)\n        )\n      )\n      (1): Bottleneck(\n        (conv1): Conv2d(512, 128, kernel_size=(1, 1), stride=(1, 1), bias=False)\n        (bn1): BatchNorm2d(128, eps=1e-05, momentum=0.1, affine=True, track_running_stats=True)\n        (conv2): Conv2d(128, 128, kernel_size=(3, 3), stride=(1, 1), padding=(1, 1), bias=False)\n        (bn2): BatchNorm2d(128, eps=1e-05, momentum=0.1, affine=True, track_running_stats=True)\n        (conv3): Conv2d(128, 512, kernel_size=(1, 1), stride=(1, 1), bias=False)\n        (bn3): BatchNorm2d(512, eps=1e-05, momentum=0.1, affine=True, track_running_stats=True)\n        (relu): ReLU(inplace=True)\n      )\n      (2): Bottleneck(\n        (conv1): Conv2d(512, 128, kernel_size=(1, 1), stride=(1, 1), bias=False)\n        (bn1): BatchNorm2d(128, eps=1e-05, momentum=0.1, affine=True, track_running_stats=True)\n        (conv2): Conv2d(128, 128, kernel_size=(3, 3), stride=(1, 1), padding=(1, 1), bias=False)\n        (bn2): BatchNorm2d(128, eps=1e-05, momentum=0.1, affine=True, track_running_stats=True)\n        (conv3): Conv2d(128, 512, kernel_size=(1, 1), stride=(1, 1), bias=False)\n        (bn3): BatchNorm2d(512, eps=1e-05, momentum=0.1, affine=True, track_running_stats=True)\n        (relu): ReLU(inplace=True)\n      )\n      (3): Bottleneck(\n        (conv1): Conv2d(512, 128, kernel_size=(1, 1), stride=(1, 1), bias=False)\n        (bn1): BatchNorm2d(128, eps=1e-05, momentum=0.1, affine=True, track_running_stats=True)\n        (conv2): Conv2d(128, 128, kernel_size=(3, 3), stride=(1, 1), padding=(1, 1), bias=False)\n        (bn2): BatchNorm2d(128, eps=1e-05, momentum=0.1, affine=True, track_running_stats=True)\n        (conv3): Conv2d(128, 512, kernel_size=(1, 1), stride=(1, 1), bias=False)\n        (bn3): BatchNorm2d(512, eps=1e-05, momentum=0.1, affine=True, track_running_stats=True)\n        (relu): ReLU(inplace=True)\n      )\n    )\n    (layer3): Sequential(\n      (0): Bottleneck(\n        (conv1): Conv2d(512, 256, kernel_size=(1, 1), stride=(1, 1), bias=False)\n        (bn1): BatchNorm2d(256, eps=1e-05, momentum=0.1, affine=True, track_running_stats=True)\n        (conv2): Conv2d(256, 256, kernel_size=(3, 3), stride=(2, 2), padding=(1, 1), bias=False)\n        (bn2): BatchNorm2d(256, eps=1e-05, momentum=0.1, affine=True, track_running_stats=True)\n        (conv3): Conv2d(256, 1024, kernel_size=(1, 1), stride=(1, 1), bias=False)\n        (bn3): BatchNorm2d(1024, eps=1e-05, momentum=0.1, affine=True, track_running_stats=True)\n        (relu): ReLU(inplace=True)\n        (downsample): Sequential(\n          (0): Conv2d(512, 1024, kernel_size=(1, 1), stride=(2, 2), bias=False)\n          (1): BatchNorm2d(1024, eps=1e-05, momentum=0.1, affine=True, track_running_stats=True)\n        )\n      )\n      (1): Bottleneck(\n        (conv1): Conv2d(1024, 256, kernel_size=(1, 1), stride=(1, 1), bias=False)\n        (bn1): BatchNorm2d(256, eps=1e-05, momentum=0.1, affine=True, track_running_stats=True)\n        (conv2): Conv2d(256, 256, kernel_size=(3, 3), stride=(1, 1), padding=(1, 1), bias=False)\n        (bn2): BatchNorm2d(256, eps=1e-05, momentum=0.1, affine=True, track_running_stats=True)\n        (conv3): Conv2d(256, 1024, kernel_size=(1, 1), stride=(1, 1), bias=False)\n        (bn3): BatchNorm2d(1024, eps=1e-05, momentum=0.1, affine=True, track_running_stats=True)\n        (relu): ReLU(inplace=True)\n      )\n      (2): Bottleneck(\n        (conv1): Conv2d(1024, 256, kernel_size=(1, 1), stride=(1, 1), bias=False)\n        (bn1): BatchNorm2d(256, eps=1e-05, momentum=0.1, affine=True, track_running_stats=True)\n        (conv2): Conv2d(256, 256, kernel_size=(3, 3), stride=(1, 1), padding=(1, 1), bias=False)\n        (bn2): BatchNorm2d(256, eps=1e-05, momentum=0.1, affine=True, track_running_stats=True)\n        (conv3): Conv2d(256, 1024, kernel_size=(1, 1), stride=(1, 1), bias=False)\n        (bn3): BatchNorm2d(1024, eps=1e-05, momentum=0.1, affine=True, track_running_stats=True)\n        (relu): ReLU(inplace=True)\n      )\n      (3): Bottleneck(\n        (conv1): Conv2d(1024, 256, kernel_size=(1, 1), stride=(1, 1), bias=False)\n        (bn1): BatchNorm2d(256, eps=1e-05, momentum=0.1, affine=True, track_running_stats=True)\n        (conv2): Conv2d(256, 256, kernel_size=(3, 3), stride=(1, 1), padding=(1, 1), bias=False)\n        (bn2): BatchNorm2d(256, eps=1e-05, momentum=0.1, affine=True, track_running_stats=True)\n        (conv3): Conv2d(256, 1024, kernel_size=(1, 1), stride=(1, 1), bias=False)\n        (bn3): BatchNorm2d(1024, eps=1e-05, momentum=0.1, affine=True, track_running_stats=True)\n        (relu): ReLU(inplace=True)\n      )\n      (4): Bottleneck(\n        (conv1): Conv2d(1024, 256, kernel_size=(1, 1), stride=(1, 1), bias=False)\n        (bn1): BatchNorm2d(256, eps=1e-05, momentum=0.1, affine=True, track_running_stats=True)\n        (conv2): Conv2d(256, 256, kernel_size=(3, 3), stride=(1, 1), padding=(1, 1), bias=False)\n        (bn2): BatchNorm2d(256, eps=1e-05, momentum=0.1, affine=True, track_running_stats=True)\n        (conv3): Conv2d(256, 1024, kernel_size=(1, 1), stride=(1, 1), bias=False)\n        (bn3): BatchNorm2d(1024, eps=1e-05, momentum=0.1, affine=True, track_running_stats=True)\n        (relu): ReLU(inplace=True)\n      )\n      (5): Bottleneck(\n        (conv1): Conv2d(1024, 256, kernel_size=(1, 1), stride=(1, 1), bias=False)\n        (bn1): BatchNorm2d(256, eps=1e-05, momentum=0.1, affine=True, track_running_stats=True)\n        (conv2): Conv2d(256, 256, kernel_size=(3, 3), stride=(1, 1), padding=(1, 1), bias=False)\n        (bn2): BatchNorm2d(256, eps=1e-05, momentum=0.1, affine=True, track_running_stats=True)\n        (conv3): Conv2d(256, 1024, kernel_size=(1, 1), stride=(1, 1), bias=False)\n        (bn3): BatchNorm2d(1024, eps=1e-05, momentum=0.1, affine=True, track_running_stats=True)\n        (relu): ReLU(inplace=True)\n      )\n    )\n    (layer4): Sequential(\n      (0): Bottleneck(\n        (conv1): Conv2d(1024, 512, kernel_size=(1, 1), stride=(1, 1), bias=False)\n        (bn1): BatchNorm2d(512, eps=1e-05, momentum=0.1, affine=True, track_running_stats=True)\n        (conv2): Conv2d(512, 512, kernel_size=(3, 3), stride=(2, 2), padding=(1, 1), bias=False)\n        (bn2): BatchNorm2d(512, eps=1e-05, momentum=0.1, affine=True, track_running_stats=True)\n        (conv3): Conv2d(512, 2048, kernel_size=(1, 1), stride=(1, 1), bias=False)\n        (bn3): BatchNorm2d(2048, eps=1e-05, momentum=0.1, affine=True, track_running_stats=True)\n        (relu): ReLU(inplace=True)\n        (downsample): Sequential(\n          (0): Conv2d(1024, 2048, kernel_size=(1, 1), stride=(2, 2), bias=False)\n          (1): BatchNorm2d(2048, eps=1e-05, momentum=0.1, affine=True, track_running_stats=True)\n        )\n      )\n      (1): Bottleneck(\n        (conv1): Conv2d(2048, 512, kernel_size=(1, 1), stride=(1, 1), bias=False)\n        (bn1): BatchNorm2d(512, eps=1e-05, momentum=0.1, affine=True, track_running_stats=True)\n        (conv2): Conv2d(512, 512, kernel_size=(3, 3), stride=(1, 1), padding=(1, 1), bias=False)\n        (bn2): BatchNorm2d(512, eps=1e-05, momentum=0.1, affine=True, track_running_stats=True)\n        (conv3): Conv2d(512, 2048, kernel_size=(1, 1), stride=(1, 1), bias=False)\n        (bn3): BatchNorm2d(2048, eps=1e-05, momentum=0.1, affine=True, track_running_stats=True)\n        (relu): ReLU(inplace=True)\n      )\n      (2): Bottleneck(\n        (conv1): Conv2d(2048, 512, kernel_size=(1, 1), stride=(1, 1), bias=False)\n        (bn1): BatchNorm2d(512, eps=1e-05, momentum=0.1, affine=True, track_running_stats=True)\n        (conv2): Conv2d(512, 512, kernel_size=(3, 3), stride=(1, 1), padding=(1, 1), bias=False)\n        (bn2): BatchNorm2d(512, eps=1e-05, momentum=0.1, affine=True, track_running_stats=True)\n        (conv3): Conv2d(512, 2048, kernel_size=(1, 1), stride=(1, 1), bias=False)\n        (bn3): BatchNorm2d(2048, eps=1e-05, momentum=0.1, affine=True, track_running_stats=True)\n        (relu): ReLU(inplace=True)\n      )\n    )\n    (avgpool): AdaptiveAvgPool2d(output_size=(1, 1))\n    (fc): Linear(in_features=2048, out_features=10, bias=True)\n  )\n)"
     },
     "execution_count": 19,
     "metadata": {},
     "output_type": "execute_result"
    }
   ],
   "source": [
    "# 创建 ResNet 模型实例\n",
    "model = ResNet()\n",
    "\n",
    "# 移动到GPU\n",
    "device = get_default_device()\n",
    "print(\"Using device:{}\".format(device))\n",
    "train_dl = DeviceDataLoader(train_loader, device)\n",
    "val_dl = DeviceDataLoader(val_loader, device)\n",
    "to_device(model, device)"
   ],
   "metadata": {
    "collapsed": false
   }
  },
  {
   "cell_type": "code",
   "execution_count": null,
   "outputs": [],
   "source": [
    " # training\n",
    "history = model.fit(num_epochs, lr, model, train_dl, val_dl, opt_func)"
   ],
   "metadata": {
    "collapsed": false
   }
  },
  {
   "cell_type": "code",
   "execution_count": null,
   "outputs": [],
   "source": [
    "import matplotlib.pyplot as plt\n",
    "\n",
    "# 中文绘制\n",
    "plt.rcParams['font.family'] = 'Microsoft YaHei'\n",
    "\n",
    "\n",
    "def plot_accuracies(history):\n",
    "    \"\"\"绘制准确率曲线\"\"\"\n",
    "    accuracies = [x['val_acc'] for x in history]\n",
    "    plt.plot(accuracies, '-x')\n",
    "    plt.xlabel('epoch')\n",
    "    plt.ylabel('accuracy')\n",
    "    plt.title('Accuracy vs. No. of epochs')\n",
    "    plt.show()\n",
    "\n",
    "\n",
    "def plot_losses(history):\n",
    "    \"\"\"绘制损失曲线\"\"\"\n",
    "    train_losses = [x.get('train_loss') for x in history]\n",
    "    val_losses = [x['val_loss'] for x in history]\n",
    "    plt.plot(train_losses, '-bx')\n",
    "    plt.plot(val_losses, '-rx')\n",
    "    plt.xlabel('epoch')\n",
    "    plt.ylabel('loss')\n",
    "    plt.legend(['Training', 'Validation'])\n",
    "    plt.title('Loss vs. No. of epochs')\n",
    "    plt.show()\n",
    "\n",
    "\n",
    "# 可视化损失和准确率\n",
    "plot_accuracies(history)\n",
    "plot_losses(history)"
   ],
   "metadata": {
    "collapsed": false
   }
  },
  {
   "cell_type": "code",
   "execution_count": null,
   "outputs": [],
   "source": [
    "# 保存模型\n",
    "# model.save_model()"
   ],
   "metadata": {
    "collapsed": false
   }
  }
 ],
 "metadata": {
  "kernelspec": {
   "display_name": "Python 3",
   "language": "python",
   "name": "python3"
  },
  "language_info": {
   "codemirror_mode": {
    "name": "ipython",
    "version": 2
   },
   "file_extension": ".py",
   "mimetype": "text/x-python",
   "name": "python",
   "nbconvert_exporter": "python",
   "pygments_lexer": "ipython2",
   "version": "2.7.6"
  }
 },
 "nbformat": 4,
 "nbformat_minor": 0
}
