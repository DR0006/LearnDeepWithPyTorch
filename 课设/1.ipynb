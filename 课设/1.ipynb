{
 "cells": [
  {
   "cell_type": "code",
   "execution_count": 1,
   "outputs": [],
   "source": [
    "import os\n",
    "import torch\n",
    "\n",
    "data_dir = './data/'\n",
    "train_dir = './data/train/train/'"
   ],
   "metadata": {
    "collapsed": false
   }
  },
  {
   "cell_type": "code",
   "execution_count": 2,
   "metadata": {
    "collapsed": true
   },
   "outputs": [
    {
     "name": "stdout",
     "output_type": "stream",
     "text": [
      "训练样本数量 : 50000\n",
      "类别数: 10\n",
      "------------------------------------------\n",
      "标签1: frog\n",
      "标签2: ship\n",
      "标签3: dog\n",
      "标签4: horse\n",
      "标签5: truck\n",
      "标签6: cat\n",
      "标签7: deer\n",
      "标签8: airplane\n",
      "标签9: bird\n",
      "标签10: automobile\n"
     ]
    }
   ],
   "source": [
    "def read_csv_labels(fname):\n",
    "    \"\"\"读取fname来给标签字典返回一个文件名\"\"\"\n",
    "    with open(fname, 'r') as f:\n",
    "        # 跳过文件头行(列名)\n",
    "        lines = f.readlines()[1:]\n",
    "    tokens = [l.rstrip().split(',') for l in lines]\n",
    "    return dict(((name, label) for name, label in tokens))\n",
    "\n",
    "\n",
    "labels = read_csv_labels(os.path.join(data_dir, 'trainLabels.csv'))\n",
    "train_dir_len = len(labels)\n",
    "labels_set = set(labels.values())\n",
    "print('训练样本数量 :', train_dir_len)\n",
    "print('类别数:', len(labels_set))\n",
    "print(\"------------------------------------------\")\n",
    "index = 1\n",
    "for each in labels_set:\n",
    "    print(\"标签{}:\".format(index), each)\n",
    "    index += 1"
   ]
  },
  {
   "cell_type": "code",
   "execution_count": 3,
   "outputs": [
    {
     "name": "stdout",
     "output_type": "stream",
     "text": [
      "<class 'pandas.core.frame.DataFrame'>\n",
      "RangeIndex: 50000 entries, 0 to 49999\n",
      "Data columns (total 2 columns):\n",
      " #   Column  Non-Null Count  Dtype \n",
      "---  ------  --------------  ----- \n",
      " 0   id      50000 non-null  object\n",
      " 1   label   50000 non-null  object\n",
      "dtypes: object(2)\n",
      "memory usage: 781.4+ KB\n"
     ]
    }
   ],
   "source": [
    "import pandas as pd\n",
    "\n",
    "train_labels = pd.read_csv(f'{data_dir}trainLabels.csv', dtype=str)\n",
    "train_images = pd.DataFrame(columns=['id', 'label', 'path'], dtype=str)\n",
    "test_labels = pd.read_csv(f'{data_dir}sampleSubmission.csv')\n",
    "train_labels.info()"
   ],
   "metadata": {
    "collapsed": false
   }
  },
  {
   "cell_type": "code",
   "execution_count": 4,
   "outputs": [
    {
     "name": "stdout",
     "output_type": "stream",
     "text": [
      "<class 'pandas.core.frame.DataFrame'>\n"
     ]
    },
    {
     "data": {
      "text/plain": "  id  label                      path\n0  1   frog  ./data/train/train/1.png\n1  2  truck  ./data/train/train/2.png",
      "text/html": "<div>\n<style scoped>\n    .dataframe tbody tr th:only-of-type {\n        vertical-align: middle;\n    }\n\n    .dataframe tbody tr th {\n        vertical-align: top;\n    }\n\n    .dataframe thead th {\n        text-align: right;\n    }\n</style>\n<table border=\"1\" class=\"dataframe\">\n  <thead>\n    <tr style=\"text-align: right;\">\n      <th></th>\n      <th>id</th>\n      <th>label</th>\n      <th>path</th>\n    </tr>\n  </thead>\n  <tbody>\n    <tr>\n      <th>0</th>\n      <td>1</td>\n      <td>frog</td>\n      <td>./data/train/train/1.png</td>\n    </tr>\n    <tr>\n      <th>1</th>\n      <td>2</td>\n      <td>truck</td>\n      <td>./data/train/train/2.png</td>\n    </tr>\n  </tbody>\n</table>\n</div>"
     },
     "execution_count": 4,
     "metadata": {},
     "output_type": "execute_result"
    }
   ],
   "source": [
    "print(type(train_images))\n",
    "for index in range(0, train_dir_len):\n",
    "    path = train_dir + str(index + 1) + '.png'\n",
    "    if os.path.exists(path):\n",
    "        train_images.loc[len(train_images)] = {\n",
    "            'id': str(train_labels['id'].iloc[index]),\n",
    "            'path': path,\n",
    "            'label': train_labels['label'].iloc[index]\n",
    "        }\n",
    "train_images.head(2)"
   ],
   "metadata": {
    "collapsed": false
   }
  },
  {
   "cell_type": "code",
   "execution_count": 5,
   "outputs": [
    {
     "data": {
      "text/plain": "              id  path\nlabel                 \nairplane    5000  5000\nautomobile  5000  5000\nbird        5000  5000\ncat         5000  5000\ndeer        5000  5000\ndog         5000  5000\nfrog        5000  5000\nhorse       5000  5000\nship        5000  5000\ntruck       5000  5000",
      "text/html": "<div>\n<style scoped>\n    .dataframe tbody tr th:only-of-type {\n        vertical-align: middle;\n    }\n\n    .dataframe tbody tr th {\n        vertical-align: top;\n    }\n\n    .dataframe thead th {\n        text-align: right;\n    }\n</style>\n<table border=\"1\" class=\"dataframe\">\n  <thead>\n    <tr style=\"text-align: right;\">\n      <th></th>\n      <th>id</th>\n      <th>path</th>\n    </tr>\n    <tr>\n      <th>label</th>\n      <th></th>\n      <th></th>\n    </tr>\n  </thead>\n  <tbody>\n    <tr>\n      <th>airplane</th>\n      <td>5000</td>\n      <td>5000</td>\n    </tr>\n    <tr>\n      <th>automobile</th>\n      <td>5000</td>\n      <td>5000</td>\n    </tr>\n    <tr>\n      <th>bird</th>\n      <td>5000</td>\n      <td>5000</td>\n    </tr>\n    <tr>\n      <th>cat</th>\n      <td>5000</td>\n      <td>5000</td>\n    </tr>\n    <tr>\n      <th>deer</th>\n      <td>5000</td>\n      <td>5000</td>\n    </tr>\n    <tr>\n      <th>dog</th>\n      <td>5000</td>\n      <td>5000</td>\n    </tr>\n    <tr>\n      <th>frog</th>\n      <td>5000</td>\n      <td>5000</td>\n    </tr>\n    <tr>\n      <th>horse</th>\n      <td>5000</td>\n      <td>5000</td>\n    </tr>\n    <tr>\n      <th>ship</th>\n      <td>5000</td>\n      <td>5000</td>\n    </tr>\n    <tr>\n      <th>truck</th>\n      <td>5000</td>\n      <td>5000</td>\n    </tr>\n  </tbody>\n</table>\n</div>"
     },
     "execution_count": 5,
     "metadata": {},
     "output_type": "execute_result"
    }
   ],
   "source": [
    "display_groupby = train_images.groupby(['label']).count()\n",
    "display_groupby.head(10)"
   ],
   "metadata": {
    "collapsed": false
   }
  },
  {
   "cell_type": "code",
   "execution_count": 6,
   "outputs": [
    {
     "data": {
      "text/plain": "  id label                      path\n0  1     6  ./data/train/train/1.png\n1  2     9  ./data/train/train/2.png\n2  3     9  ./data/train/train/3.png\n3  4     4  ./data/train/train/4.png\n4  5     1  ./data/train/train/5.png",
      "text/html": "<div>\n<style scoped>\n    .dataframe tbody tr th:only-of-type {\n        vertical-align: middle;\n    }\n\n    .dataframe tbody tr th {\n        vertical-align: top;\n    }\n\n    .dataframe thead th {\n        text-align: right;\n    }\n</style>\n<table border=\"1\" class=\"dataframe\">\n  <thead>\n    <tr style=\"text-align: right;\">\n      <th></th>\n      <th>id</th>\n      <th>label</th>\n      <th>path</th>\n    </tr>\n  </thead>\n  <tbody>\n    <tr>\n      <th>0</th>\n      <td>1</td>\n      <td>6</td>\n      <td>./data/train/train/1.png</td>\n    </tr>\n    <tr>\n      <th>1</th>\n      <td>2</td>\n      <td>9</td>\n      <td>./data/train/train/2.png</td>\n    </tr>\n    <tr>\n      <th>2</th>\n      <td>3</td>\n      <td>9</td>\n      <td>./data/train/train/3.png</td>\n    </tr>\n    <tr>\n      <th>3</th>\n      <td>4</td>\n      <td>4</td>\n      <td>./data/train/train/4.png</td>\n    </tr>\n    <tr>\n      <th>4</th>\n      <td>5</td>\n      <td>1</td>\n      <td>./data/train/train/5.png</td>\n    </tr>\n  </tbody>\n</table>\n</div>"
     },
     "execution_count": 6,
     "metadata": {},
     "output_type": "execute_result"
    }
   ],
   "source": [
    "class_names = ['airplane', 'automobile', 'bird', 'cat', 'deer', 'dog', 'frog', 'horse', 'ship', 'truck']\n",
    "for name in class_names:\n",
    "    index = class_names.index(name)\n",
    "    train_images.loc[train_images.label == name, 'label'] = str(index)\n",
    "\n",
    "train_images.head(5)"
   ],
   "metadata": {
    "collapsed": false
   }
  },
  {
   "cell_type": "code",
   "execution_count": 7,
   "outputs": [],
   "source": [
    "from torch.utils.data import Dataset, DataLoader\n",
    "from PIL import Image\n",
    "\n",
    "\n",
    "class MyDataset(Dataset):\n",
    "    def __init__(self, dataframe, transform=None):\n",
    "        self.dataframe = dataframe\n",
    "        self.transform = transform\n",
    "\n",
    "    def __len__(self):\n",
    "        return len(self.dataframe)\n",
    "\n",
    "    def __getitem__(self, index):\n",
    "        row = self.dataframe.iloc[index]\n",
    "        image = Image.open(row[\"path\"]).convert(\"RGB\")  #确保是RGB图片\n",
    "        label = int(row[\"label\"])\n",
    "\n",
    "        if self.transform:\n",
    "            image = self.transform(image)\n",
    "\n",
    "        return image, label\n",
    "\n",
    "\n",
    "dataset = MyDataset(train_images)"
   ],
   "metadata": {
    "collapsed": false
   }
  },
  {
   "cell_type": "code",
   "execution_count": 8,
   "outputs": [
    {
     "data": {
      "text/plain": "Compose(\n    Resize(size=(40, 40), interpolation=bilinear, max_size=None, antialias=warn)\n    RandomHorizontalFlip(p=0.1)\n    RandomRotation(degrees=[-20.0, 20.0], interpolation=nearest, expand=False, fill=0)\n    ColorJitter(brightness=(0.9, 1.1), contrast=(0.9, 1.1), saturation=(0.9, 1.1), hue=None)\n    ToTensor()\n    Normalize(mean=[0.4914, 0.4822, 0.4465], std=[0.247, 0.243, 0.261])\n)"
     },
     "execution_count": 8,
     "metadata": {},
     "output_type": "execute_result"
    }
   ],
   "source": [
    "import torchvision\n",
    "\n",
    "# 图像增广\n",
    "IMAGE_SIZE = 40\n",
    "\n",
    "mean, std = [0.4914, 0.4822, 0.4465], [0.247, 0.243, 0.261]\n",
    "\n",
    "transform_train = torchvision.transforms.Compose([\n",
    "    # 在高度和宽度上将图像RESIZE\n",
    "    torchvision.transforms.Resize((IMAGE_SIZE, IMAGE_SIZE)),  # Resize the image in a 40x40 shape\n",
    "    torchvision.transforms.RandomHorizontalFlip(0.1),\n",
    "    torchvision.transforms.RandomRotation(20),\n",
    "    torchvision.transforms.ColorJitter(brightness=0.1,  #随机颜色抖动\n",
    "                                       contrast=0.1,\n",
    "                                       saturation=0.1),\n",
    "    torchvision.transforms.ToTensor(),\n",
    "    # 标准化图像的每个通道\n",
    "    torchvision.transforms.Normalize(mean, std)])\n",
    "\n",
    "# 在测试期间，只对图像执行标准化，以消除评估结果中的随机性。\n",
    "transform_test = torchvision.transforms.Compose([\n",
    "    torchvision.transforms.Resize((IMAGE_SIZE, IMAGE_SIZE)),\n",
    "    torchvision.transforms.ToTensor(),\n",
    "    torchvision.transforms.Normalize(mean, std)])\n",
    "\n",
    "transform_train"
   ],
   "metadata": {
    "collapsed": false
   }
  },
  {
   "cell_type": "code",
   "execution_count": 9,
   "outputs": [],
   "source": [
    "from torch.utils.data import random_split\n",
    "\n",
    "BATCH_SIZE = 64\n",
    "NUM_WORKERS = 4\n",
    "VALIDATION_SIZE = 0.2  # 训练的五万张图片的0.2即1万张用于验证\n",
    "num = len(dataset)\n",
    "split = round(num * VALIDATION_SIZE)\n",
    "\n",
    "train_dataset, val_dataset = random_split(dataset, [num - split, split])\n",
    "\n",
    "# 创建数据加载器\n",
    "train_data = MyDataset(train_dataset, transform=transform_train)\n",
    "val_data = MyDataset(val_dataset, transform=transform_test)\n",
    "\n",
    "train_loader = DataLoader(\n",
    "    dataset=train_data,\n",
    "    batch_size=BATCH_SIZE,\n",
    "    shuffle=True,\n",
    "    num_workers=NUM_WORKERS,\n",
    "    pin_memory=True\n",
    ")\n",
    "\n",
    "test_loader = DataLoader(\n",
    "    dataset=val_data,\n",
    "    batch_size=BATCH_SIZE,\n",
    "    shuffle=False,\n",
    "    num_workers=NUM_WORKERS,\n",
    "    pin_memory=True\n",
    ")"
   ],
   "metadata": {
    "collapsed": false
   }
  },
  {
   "cell_type": "code",
   "execution_count": 10,
   "outputs": [
    {
     "name": "stdout",
     "output_type": "stream",
     "text": [
      "Using device:cuda\n"
     ]
    }
   ],
   "source": [
    "def get_default_device():\n",
    "    \"\"\"获取默认设备，如果有 GPU 则选择 GPU，否则选择 CPU\"\"\"\n",
    "    if torch.cuda.is_available():\n",
    "        return torch.device('cuda')\n",
    "    else:\n",
    "        return torch.device('cpu')\n",
    "\n",
    "\n",
    "device = get_default_device()\n",
    "print(\"Using device:{}\".format(device))"
   ],
   "metadata": {
    "collapsed": false
   }
  },
  {
   "cell_type": "code",
   "execution_count": null,
   "outputs": [],
   "source": [
    "from matplotlib import pyplot as plt\n",
    "\n",
    "# 获取一个批次的数据\n",
    "data_iter = iter(train_loader)\n",
    "images, labels = next(data_iter)\n",
    "\n",
    "\n",
    "# 定义一个函数来显示图像\n",
    "def show_images(images, labels, title):\n",
    "    fig, axes = plt.subplots(1, len(images), figsize=(12, 2))\n",
    "    for ax, image, label in zip(axes, images, labels):\n",
    "        ax.imshow(image.permute(1, 2, 0))  # 将张量的通道顺序调整为 (H, W, C) 并显示\n",
    "        ax.set_title(f'Label: {label.item()}')\n",
    "        ax.axis('off')\n",
    "    plt.suptitle(title)\n",
    "    plt.show()\n",
    "\n",
    "\n",
    "# 显示一个批次的训练图像\n",
    "show_images(images, labels, 'CIFAR-10 Images')"
   ],
   "metadata": {
    "collapsed": false,
    "pycharm": {
     "is_executing": true
    }
   }
  }
 ],
 "metadata": {
  "kernelspec": {
   "display_name": "Python 3",
   "language": "python",
   "name": "python3"
  },
  "language_info": {
   "codemirror_mode": {
    "name": "ipython",
    "version": 2
   },
   "file_extension": ".py",
   "mimetype": "text/x-python",
   "name": "python",
   "nbconvert_exporter": "python",
   "pygments_lexer": "ipython2",
   "version": "2.7.6"
  }
 },
 "nbformat": 4,
 "nbformat_minor": 0
}
