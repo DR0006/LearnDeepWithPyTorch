{
 "cells": [
  {
   "cell_type": "code",
   "execution_count": 1,
   "metadata": {
    "collapsed": true
   },
   "outputs": [],
   "source": [
    "# -*- coding: utf-8 -*-\n",
    "\"\"\"\n",
    "@File  : mean.py\n",
    "@author: FxDr\n",
    "@Time  : 2023/12/28 19:12\n",
    "@Description:\n",
    "\"\"\"\n",
    "import warnings\n",
    "import numpy as np\n",
    "import torch\n",
    "import torchvision\n",
    "from matplotlib import pyplot as plt\n",
    "from sklearn.cluster import KMeans\n",
    "from sklearn.decomposition import PCA\n",
    "from torch.utils.data import DataLoader\n",
    "from torchvision import transforms, models\n",
    "\n",
    "warnings.filterwarnings(\"ignore\")\n",
    "\n",
    "# 设置随机种子，以便实验的可重复性\n",
    "np.random.seed(0)\n",
    "\n",
    "# 加载预训练的ResNet18模型\n",
    "model = models.resnet18(pretrained=True)\n",
    "# 截取掉模型的最后一层（全连接层），获取特征\n",
    "model = torch.nn.Sequential(*(list(model.children())[:-1]))\n",
    "model = model.to(\"cuda\" if torch.cuda.is_available() else \"cpu\")\n",
    "model.eval()\n",
    "\n",
    "plt.rcParams['font.family'] = 'Microsoft YaHei'\n",
    "\n",
    "transform_train = transforms.Compose([\n",
    "    transforms.Resize((224, 224)),\n",
    "    transforms.ToTensor(),\n",
    "])\n",
    "\n",
    "transform_test = transforms.Compose([\n",
    "    transforms.Resize((224, 224)),\n",
    "    transforms.ToTensor(),\n",
    "])\n",
    "\n",
    "# 选择训练集与测试集的数据，下载数据集\n",
    "train_data = torchvision.datasets.CIFAR10('../../data', train=True,\n",
    "                                          download=False, transform=transform_train)\n",
    "test_data = torchvision.datasets.CIFAR10('../../data', train=False,\n",
    "                                         download=False, transform=transform_test)\n",
    "\n",
    "# 预测标签到类别名称的映射\n",
    "label_mapping = {\n",
    "    0: '类别1',\n",
    "    1: '类别2',\n",
    "    2: '类别3',\n",
    "    3: '类别4',\n",
    "    4: '类别5',\n",
    "    5: '类别6',\n",
    "    6: '类别7',\n",
    "    7: '类别8',\n",
    "    8: '类别9',\n",
    "    9: '类别10'\n",
    "}\n",
    "\n",
    "\n",
    "# 提取特征的函数\n",
    "def extract_features(data_loader, model, device):\n",
    "    features = []\n",
    "    labels = []\n",
    "    for inputs, targets in data_loader:\n",
    "        inputs, targets = inputs.to(device), targets.to(device)\n",
    "        with torch.no_grad():\n",
    "            output = model(inputs)\n",
    "        features.append(output.squeeze().cpu().numpy())\n",
    "        labels.append(targets.cpu().numpy())\n",
    "    return np.vstack(features), np.concatenate(labels)\n",
    "\n",
    "\n",
    "# 使用提取特征的函数得到训练集和测试集的特征和标签\n",
    "device = torch.device(\"cuda\" if torch.cuda.is_available() else \"cpu\")\n",
    "train_loader = DataLoader(train_data, batch_size=64, shuffle=False)\n",
    "test_loader = DataLoader(test_data, batch_size=64, shuffle=False)\n",
    "\n",
    "train_features, train_labels = extract_features(train_loader, model, device)\n",
    "test_features, test_labels = extract_features(test_loader, model, device)\n",
    "\n",
    "# 使用PCA进行降维\n",
    "n_components = 200  # 设置PCA的维度\n",
    "pca = PCA(n_components=n_components)\n",
    "train_features_pca = pca.fit_transform(train_features)\n",
    "test_features_pca = pca.transform(test_features)\n",
    "\n",
    "# 使用KMeans进行聚类\n",
    "n_clusters = 10  # 设置聚类的数量\n",
    "kmeans = KMeans(n_clusters=n_clusters, random_state=0)\n",
    "train_clusters = kmeans.fit_predict(train_features_pca)\n",
    "test_clusters = kmeans.predict(test_features_pca)"
   ]
  },
  {
   "cell_type": "code",
   "execution_count": 2,
   "outputs": [
    {
     "name": "stdout",
     "output_type": "stream",
     "text": [
      "Cluster 0: [  92 1745   15   49    5   41   17   14  365  701]\n",
      "Cluster 1: [ 128 1202   12   29    8   48   11   58  383 1972]\n",
      "Cluster 2: [  53   51  963 1060   90 1530  772  299   64   27]\n",
      "Cluster 3: [1579  478  244   69  354   39   43  314 2434  502]\n",
      "Cluster 4: [  98   65  743  291 1697  356  663  595   15   59]\n",
      "Cluster 5: [ 449 1200  258  542  251  251  113  418 1374 1582]\n",
      "Cluster 6: [   6    0  206   95  534  310    8 2307    0    0]\n",
      "Cluster 7: [2149   19  615   87   78   33  107   71  160   49]\n",
      "Cluster 8: [ 142  149 1114 2235  756 2068  813  815   69   53]\n",
      "Cluster 9: [ 304   91  830  543 1227  324 2453  109  136   55]\n"
     ]
    }
   ],
   "source": [
    "# 打印各聚类标签的各真实标签数量\n",
    "cluster_label_counts = np.zeros((n_clusters, 10), dtype=int)\n",
    "for cluster_label, true_label in zip(train_clusters, train_labels):\n",
    "    cluster_label_counts[cluster_label, true_label] += 1\n",
    "\n",
    "for i in range(n_clusters):\n",
    "    print(f\"Cluster {i}: {cluster_label_counts[i]}\")\n"
   ],
   "metadata": {
    "collapsed": false
   }
  },
  {
   "cell_type": "code",
   "execution_count": 3,
   "outputs": [
    {
     "name": "stdout",
     "output_type": "stream",
     "text": [
      "Cluster 0: Most common true label - 1, Count - 1745\n",
      "Cluster 1: Most common true label - 9, Count - 1972\n",
      "Cluster 2: Most common true label - 5, Count - 1530\n",
      "Cluster 3: Most common true label - 8, Count - 2434\n",
      "Cluster 4: Most common true label - 4, Count - 1697\n",
      "Cluster 5: Most common true label - 9, Count - 1582\n",
      "Cluster 6: Most common true label - 7, Count - 2307\n",
      "Cluster 7: Most common true label - 0, Count - 2149\n",
      "Cluster 8: Most common true label - 3, Count - 2235\n",
      "Cluster 9: Most common true label - 6, Count - 2453\n"
     ]
    }
   ],
   "source": [
    "# 打印每个聚类中数量最多的真实标签\n",
    "for i in range(n_clusters):\n",
    "    max_count = np.max(cluster_label_counts[i])\n",
    "    max_index = np.argmax(cluster_label_counts[i])\n",
    "    print(f\"Cluster {i}: Most common true label - {max_index}, Count - {max_count}\")\n"
   ],
   "metadata": {
    "collapsed": false
   }
  }
 ],
 "metadata": {
  "kernelspec": {
   "display_name": "Python 3",
   "language": "python",
   "name": "python3"
  },
  "language_info": {
   "codemirror_mode": {
    "name": "ipython",
    "version": 2
   },
   "file_extension": ".py",
   "mimetype": "text/x-python",
   "name": "python",
   "nbconvert_exporter": "python",
   "pygments_lexer": "ipython2",
   "version": "2.7.6"
  }
 },
 "nbformat": 4,
 "nbformat_minor": 0
}
