{
 "metadata": {
  "kernelspec": {
   "language": "python",
   "display_name": "Python 3",
   "name": "python3"
  },
  "language_info": {
   "name": "python",
   "version": "3.10.12",
   "mimetype": "text/x-python",
   "codemirror_mode": {
    "name": "ipython",
    "version": 3
   },
   "pygments_lexer": "ipython3",
   "nbconvert_exporter": "python",
   "file_extension": ".py"
  },
  "kaggle": {
   "accelerator": "gpu",
   "dataSources": [
    {
     "sourceId": 15444,
     "sourceType": "datasetVersion",
     "datasetId": 11102
    }
   ],
   "dockerImageVersionId": 30627,
   "isInternetEnabled": true,
   "language": "python",
   "sourceType": "notebook",
   "isGpuEnabled": true
  }
 },
 "nbformat_minor": 4,
 "nbformat": 4,
 "cells": [
  {
   "cell_type": "code",
   "source": [
    "# -*- coding: utf-8 -*-\n",
    "\"\"\"\n",
    "@File  : resnet.py\n",
    "@author: FxDr\n",
    "@Time  : 2023/12/27 20:50\n",
    "@Description:\n",
    "\"\"\"\n",
    "\n",
    "import torch\n",
    "import torch.nn as nn\n",
    "import torch.nn.functional as F\n",
    "\n",
    "\n",
    "class BasicBlock(nn.Module):\n",
    "    expansion = 1\n",
    "\n",
    "    def __init__(self, in_planes, planes, stride=1):\n",
    "        super(BasicBlock, self).__init__()\n",
    "        self.conv1 = nn.Conv2d(\n",
    "            in_planes, planes, kernel_size=3, stride=stride, padding=1, bias=False)\n",
    "        self.bn1 = nn.BatchNorm2d(planes)\n",
    "        self.conv2 = nn.Conv2d(planes, planes, kernel_size=3,\n",
    "                               stride=1, padding=1, bias=False)\n",
    "        self.bn2 = nn.BatchNorm2d(planes)\n",
    "\n",
    "        self.shortcut = nn.Sequential()\n",
    "        if stride != 1 or in_planes != self.expansion * planes:\n",
    "            self.shortcut = nn.Sequential(\n",
    "                nn.Conv2d(in_planes, self.expansion * planes,\n",
    "                          kernel_size=1, stride=stride, bias=False),\n",
    "                nn.BatchNorm2d(self.expansion * planes)\n",
    "            )\n",
    "\n",
    "    def forward(self, x):\n",
    "        out = F.relu(self.bn1(self.conv1(x)))\n",
    "        out = self.bn2(self.conv2(out))\n",
    "        out += self.shortcut(x)\n",
    "        out = F.relu(out)\n",
    "        return out\n",
    "\n",
    "\n",
    "class Bottleneck(nn.Module):\n",
    "    expansion = 4\n",
    "\n",
    "    def __init__(self, in_planes, planes, stride=1):\n",
    "        super(Bottleneck, self).__init__()\n",
    "        self.conv1 = nn.Conv2d(in_planes, planes, kernel_size=1, bias=False)\n",
    "        self.bn1 = nn.BatchNorm2d(planes)\n",
    "        self.conv2 = nn.Conv2d(planes, planes, kernel_size=3,\n",
    "                               stride=stride, padding=1, bias=False)\n",
    "        self.bn2 = nn.BatchNorm2d(planes)\n",
    "        self.conv3 = nn.Conv2d(planes, self.expansion *\n",
    "                               planes, kernel_size=1, bias=False)\n",
    "        self.bn3 = nn.BatchNorm2d(self.expansion * planes)\n",
    "\n",
    "        self.shortcut = nn.Sequential()\n",
    "        if stride != 1 or in_planes != self.expansion * planes:\n",
    "            self.shortcut = nn.Sequential(\n",
    "                nn.Conv2d(in_planes, self.expansion * planes,\n",
    "                          kernel_size=1, stride=stride, bias=False),\n",
    "                nn.BatchNorm2d(self.expansion * planes)\n",
    "            )\n",
    "\n",
    "    def forward(self, x):\n",
    "        out = F.relu(self.bn1(self.conv1(x)))\n",
    "        out = F.relu(self.bn2(self.conv2(out)))\n",
    "        out = self.bn3(self.conv3(out))\n",
    "        out += self.shortcut(x)\n",
    "        out = F.relu(out)\n",
    "        return out\n",
    "\n",
    "\n",
    "class ResNet(nn.Module):\n",
    "    def __init__(self, block, num_blocks, num_classes=10):\n",
    "        super(ResNet, self).__init__()\n",
    "        self.in_planes = 64\n",
    "\n",
    "        self.conv1 = nn.Conv2d(3, 64, kernel_size=3,\n",
    "                               stride=1, padding=1, bias=False)\n",
    "        self.bn1 = nn.BatchNorm2d(64)\n",
    "        self.layer1 = self._make_layer(block, 64, num_blocks[0], stride=1)\n",
    "        self.layer2 = self._make_layer(block, 128, num_blocks[1], stride=2)\n",
    "        self.layer3 = self._make_layer(block, 256, num_blocks[2], stride=2)\n",
    "        self.layer4 = self._make_layer(block, 512, num_blocks[3], stride=2)\n",
    "        self.linear = nn.Linear(512 * block.expansion, num_classes)\n",
    "\n",
    "    def _make_layer(self, block, planes, num_blocks, stride):\n",
    "        strides = [stride] + [1] * (num_blocks - 1)\n",
    "        layers = []\n",
    "        for stride in strides:\n",
    "            layers.append(block(self.in_planes, planes, stride))\n",
    "            self.in_planes = planes * block.expansion\n",
    "        return nn.Sequential(*layers)\n",
    "\n",
    "    def forward(self, x):\n",
    "        out = F.relu(self.bn1(self.conv1(x)))\n",
    "        out = self.layer1(out)\n",
    "        out = self.layer2(out)\n",
    "        out = self.layer3(out)\n",
    "        out = self.layer4(out)\n",
    "        out = F.avg_pool2d(out, 4)\n",
    "        out = out.view(out.size(0), -1)\n",
    "        out = self.linear(out)\n",
    "        return out\n",
    "\n",
    "\n",
    "def ResNet18():\n",
    "    return ResNet(BasicBlock, [2, 2, 2, 2])\n",
    "\n",
    "\n",
    "def ResNet34():\n",
    "    return ResNet(BasicBlock, [3, 4, 6, 3])\n",
    "\n",
    "\n",
    "def ResNet50():\n",
    "    return ResNet(Bottleneck, [3, 4, 6, 3])\n",
    "\n",
    "\n",
    "def ResNet101():\n",
    "    return ResNet(Bottleneck, [3, 4, 23, 3])\n",
    "\n",
    "\n",
    "def ResNet152():\n",
    "    return ResNet(Bottleneck, [3, 8, 36, 3])\n",
    "\n",
    "\n",
    "def test():\n",
    "    net = ResNet18()\n",
    "    y = net(torch.randn(1, 3, 32, 32))\n",
    "    print(y.size())\n"
   ],
   "metadata": {
    "_uuid": "8f2839f25d086af736a60e9eeb907d3b93b6e0e5",
    "_cell_guid": "b1076dfc-b9ad-4769-8c92-a6c4dae69d19",
    "execution": {
     "iopub.status.busy": "2023-12-27T17:24:23.334734Z",
     "iopub.execute_input": "2023-12-27T17:24:23.335513Z",
     "iopub.status.idle": "2023-12-27T17:24:23.366573Z",
     "shell.execute_reply.started": "2023-12-27T17:24:23.335470Z",
     "shell.execute_reply": "2023-12-27T17:24:23.365634Z"
    },
    "trusted": true
   },
   "execution_count": 5,
   "outputs": []
  },
  {
   "cell_type": "code",
   "source": [
    "# -*- coding: utf-8 -*-\n",
    "\"\"\"\n",
    "@File  : ResNet50.py\n",
    "@author: FxDr\n",
    "@Time  : 2023/12/28 0:10\n",
    "@Description:\n",
    "\"\"\"\n",
    "import torch.nn as nn\n",
    "\n",
    "\n",
    "def conv_block(in_channels, out_channels, pool=False):\n",
    "    layers = [nn.Conv2d(in_channels, out_channels, kernel_size=3, padding=1),\n",
    "              nn.BatchNorm2d(out_channels),\n",
    "              nn.ReLU(inplace=True)]\n",
    "    if pool:\n",
    "        layers.append(nn.MaxPool2d(2))\n",
    "    return nn.Sequential(*layers)\n",
    "\n",
    "\n",
    "class MyResNet(nn.Module):\n",
    "    def __init__(self, in_channels, num_classes):\n",
    "        super().__init__()\n",
    "        self.conv1 = conv_block(in_channels, 64)\n",
    "        self.conv2 = conv_block(64, 128, pool=True)\n",
    "        self.res1 = nn.Sequential(conv_block(128, 128), conv_block(128, 128))\n",
    "\n",
    "        self.conv3 = conv_block(128, 256, pool=True)\n",
    "        self.conv4 = conv_block(256, 512, pool=True)\n",
    "        self.res2 = nn.Sequential(conv_block(512, 512), conv_block(512, 512))\n",
    "\n",
    "        self.classifier = nn.Sequential(nn.MaxPool2d(4),\n",
    "                                        nn.Flatten(),\n",
    "                                        nn.Linear(512, num_classes))\n",
    "\n",
    "    def forward(self, xb):\n",
    "        out = self.conv1(xb)\n",
    "        out = self.conv2(out)\n",
    "        out = self.res1(out) + out\n",
    "        out = self.conv3(out)\n",
    "        out = self.conv4(out)\n",
    "        out = self.res2(out) + out\n",
    "        out = self.classifier(out)\n",
    "        return out\n"
   ],
   "metadata": {
    "execution": {
     "iopub.status.busy": "2023-12-27T17:24:23.368450Z",
     "iopub.execute_input": "2023-12-27T17:24:23.368801Z",
     "iopub.status.idle": "2023-12-27T17:24:23.387698Z",
     "shell.execute_reply.started": "2023-12-27T17:24:23.368769Z",
     "shell.execute_reply": "2023-12-27T17:24:23.386700Z"
    },
    "trusted": true
   },
   "execution_count": 6,
   "outputs": []
  },
  {
   "cell_type": "code",
   "source": [
    "# -*- coding: utf-8 -*-\n",
    "\"\"\"\n",
    "@File  : CNN_V1.py\n",
    "@author: FxDr\n",
    "@Time  : 2023/12/28 0:37\n",
    "@Description:\n",
    "\"\"\"\n",
    "import torch.nn as nn\n",
    "import torch.nn.functional as F\n",
    "\n",
    "\n",
    "class CNN_V1(nn.Module):\n",
    "    \"\"\"\n",
    "    添加一个隐藏层、调整 dropout 值、增加一个卷积层\n",
    "    总共 3 个隐藏层、3 个卷积层和批量归一化\n",
    "    \"\"\"\n",
    "\n",
    "    # 构造函数\n",
    "    def __init__(self, out_1=32, out_2=64, out_3=128, number_of_classes=10, p=0):\n",
    "        super(CNN_V1, self).__init__()\n",
    "\n",
    "        # 第一个卷积层\n",
    "        self.cnn1 = nn.Conv2d(in_channels=3, out_channels=out_1, kernel_size=5, padding=2)\n",
    "        self.conv1_bn = nn.BatchNorm2d(out_1)\n",
    "        self.maxpool1 = nn.MaxPool2d(kernel_size=2)\n",
    "        self.drop_conv = nn.Dropout(p=0.2)\n",
    "\n",
    "        # 第二个卷积层\n",
    "        self.cnn2 = nn.Conv2d(in_channels=out_1, out_channels=out_2, kernel_size=5, padding=2)\n",
    "        self.conv2_bn = nn.BatchNorm2d(out_2)\n",
    "        self.maxpool2 = nn.MaxPool2d(kernel_size=2)\n",
    "\n",
    "        # 第三个卷积层\n",
    "        self.cnn3 = nn.Conv2d(in_channels=out_2, out_channels=out_3, kernel_size=5, padding=2)\n",
    "        self.conv3_bn = nn.BatchNorm2d(out_3)\n",
    "        self.maxpool3 = nn.MaxPool2d(kernel_size=2)\n",
    "\n",
    "        # 隐藏层 1\n",
    "        self.fc1 = nn.Linear(out_3 * 4 * 4, 1000)\n",
    "        self.fc1_bn = nn.BatchNorm1d(1000)\n",
    "        self.drop = nn.Dropout(p=p)\n",
    "\n",
    "        # 隐藏层 2\n",
    "        self.fc2 = nn.Linear(1000, 1000)\n",
    "        self.fc2_bn = nn.BatchNorm1d(1000)\n",
    "\n",
    "        # 隐藏层 3\n",
    "        self.fc3 = nn.Linear(1000, 1000)\n",
    "        self.fc3_bn = nn.BatchNorm1d(1000)\n",
    "\n",
    "        # 隐藏层 4\n",
    "        self.fc4 = nn.Linear(1000, 1000)\n",
    "        self.fc4_bn = nn.BatchNorm1d(1000)\n",
    "\n",
    "        # 最终输出层\n",
    "        self.fc5 = nn.Linear(1000, number_of_classes)\n",
    "        self.fc5_bn = nn.BatchNorm1d(number_of_classes)\n",
    "\n",
    "    # 前向传播\n",
    "    def forward(self, x):\n",
    "        x = self.cnn1(x)\n",
    "        x = self.conv1_bn(x)\n",
    "        x = F.relu(x)\n",
    "        x = self.maxpool1(x)\n",
    "        x = self.drop_conv(x)\n",
    "\n",
    "        x = self.cnn2(x)\n",
    "        x = self.conv2_bn(x)\n",
    "        x = F.relu(x)\n",
    "        x = self.maxpool2(x)\n",
    "        x = self.drop_conv(x)\n",
    "\n",
    "        x = self.cnn3(x)\n",
    "        x = self.conv3_bn(x)\n",
    "        x = F.relu(x)\n",
    "        x = self.maxpool3(x)\n",
    "        x = self.drop_conv(x)\n",
    "\n",
    "        x = x.view(x.size(0), -1)\n",
    "        x = self.fc1(x)\n",
    "        x = self.fc1_bn(x)\n",
    "        x = F.relu(self.drop(x))\n",
    "\n",
    "        x = self.fc2(x)\n",
    "        x = self.fc2_bn(x)\n",
    "        x = F.relu(self.drop(x))\n",
    "\n",
    "        x = self.fc3(x)\n",
    "        x = self.fc3_bn(x)\n",
    "        x = F.relu(self.drop(x))\n",
    "\n",
    "        x = self.fc4(x)\n",
    "        x = self.fc4_bn(x)\n",
    "        x = F.relu(self.drop(x))\n",
    "\n",
    "        x = self.fc5(x)\n",
    "        x = self.fc5_bn(x)\n",
    "\n",
    "        return x\n",
    "\n",
    "# model = CNN_V1(out_1=32, out_2=64, out_3=128, number_of_classes=10, p=0.5)\n"
   ],
   "metadata": {
    "execution": {
     "iopub.status.busy": "2023-12-27T17:24:23.388955Z",
     "iopub.execute_input": "2023-12-27T17:24:23.390160Z",
     "iopub.status.idle": "2023-12-27T17:24:23.407974Z",
     "shell.execute_reply.started": "2023-12-27T17:24:23.390127Z",
     "shell.execute_reply": "2023-12-27T17:24:23.407048Z"
    },
    "trusted": true
   },
   "execution_count": 7,
   "outputs": []
  },
  {
   "cell_type": "code",
   "source": [
    "# -*- coding: utf-8 -*-\n",
    "\"\"\"\n",
    "@File  : train.py\n",
    "@author: FxDr\n",
    "@Time  : 2023/12/27 20:50\n",
    "@Description: Training script with visualization and evaluation metrics\n",
    "\"\"\"\n",
    "\n",
    "import matplotlib.pyplot as plt\n",
    "import seaborn as sns\n",
    "import torch\n",
    "import torch.optim as optim\n",
    "import torchvision\n",
    "import torchvision.transforms as transforms\n",
    "from sklearn.metrics import confusion_matrix\n",
    "from torch.nn import DataParallel\n",
    "from torch.optim.lr_scheduler import MultiStepLR\n",
    "from torch.utils.data import DataLoader\n",
    "from torch.utils.tensorboard import SummaryWriter\n",
    "\n",
    "\n",
    "\n",
    "# 设置设备\n",
    "device = 'cuda' if torch.cuda.is_available() else 'cpu'\n",
    "best_acc = 0\n",
    "start_epoch = 0\n",
    "\n",
    "# 数据预处理\n",
    "print('==> Preparing data..')\n",
    "transform_train = transforms.Compose([\n",
    "    transforms.RandomCrop(32, padding=4),\n",
    "    transforms.RandomHorizontalFlip(),\n",
    "    transforms.ToTensor(),\n",
    "    transforms.Normalize((0.4914, 0.4822, 0.4465), (0.2023, 0.1994, 0.2010)),\n",
    "])\n",
    "\n",
    "transform_test = transforms.Compose([\n",
    "    transforms.ToTensor(),\n",
    "    transforms.Normalize((0.4914, 0.4822, 0.4465), (0.2023, 0.1994, 0.2010)),\n",
    "])\n",
    "\n",
    "train_dataset = torchvision.datasets.CIFAR10(\n",
    "    root='/kaggle/input/cifar10-python', train=True, download=True, transform=transform_train)\n",
    "train_loader = torch.utils.data.DataLoader(\n",
    "    train_dataset, batch_size=256, shuffle=True, num_workers=4)\n",
    "\n",
    "validation_dataset = torchvision.datasets.CIFAR10(\n",
    "    root='/kaggle/input/cifar10-python', train=False, download=True, transform=transform_test)\n",
    "validation_loader = torch.utils.data.DataLoader(\n",
    "    validation_dataset, batch_size=256, shuffle=False, num_workers=4)\n",
    "\n",
    "classes = ('plane', 'car', 'bird', 'cat', 'deer',\n",
    "           'dog', 'frog', 'horse', 'ship', 'truck')"
   ],
   "metadata": {
    "execution": {
     "iopub.status.busy": "2023-12-27T17:24:23.469391Z",
     "iopub.execute_input": "2023-12-27T17:24:23.469699Z",
     "iopub.status.idle": "2023-12-27T17:24:30.935034Z",
     "shell.execute_reply.started": "2023-12-27T17:24:23.469645Z",
     "shell.execute_reply": "2023-12-27T17:24:30.934280Z"
    },
    "trusted": true
   },
   "execution_count": 8,
   "outputs": [
    {
     "name": "stdout",
     "text": "==> Preparing data..\nFiles already downloaded and verified\nFiles already downloaded and verified\n",
     "output_type": "stream"
    }
   ]
  },
  {
   "cell_type": "code",
   "source": [
    "# 构建模型\n",
    "print('==> Building model..')\n",
    "# net = ResNet18()\n",
    "# net = MyResNet(3,10)\n",
    "net = CNN_V1(out_1=32, out_2=64, out_3=128, number_of_classes=10, p=0.5)\n",
    "\n",
    "# 使用DataParallel在多GPU上运行\n",
    "if torch.cuda.device_count() > 1:\n",
    "    print(\"Let's use\", torch.cuda.device_count(), \"GPUs!\")\n",
    "    net = DataParallel(net)\n",
    "\n",
    "net = net.to(device)\n",
    "\n",
    "# 定义损失函数和优化器\n",
    "criterion = torch.nn.CrossEntropyLoss()\n",
    "optimizer = optim.SGD(net.parameters(), lr=0.1, momentum=0.9, weight_decay=5e-4)\n",
    "\n",
    "# 定义学习率调整策略\n",
    "scheduler = MultiStepLR(optimizer, milestones=[100, 150], gamma=0.1)\n",
    "\n",
    "# TensorBoard可视化\n",
    "writer = SummaryWriter()\n",
    "net"
   ],
   "metadata": {
    "execution": {
     "iopub.status.busy": "2023-12-27T17:24:30.937245Z",
     "iopub.execute_input": "2023-12-27T17:24:30.938225Z",
     "iopub.status.idle": "2023-12-27T17:24:35.660993Z",
     "shell.execute_reply.started": "2023-12-27T17:24:30.938189Z",
     "shell.execute_reply": "2023-12-27T17:24:35.660014Z"
    },
    "trusted": true
   },
   "execution_count": 9,
   "outputs": [
    {
     "name": "stdout",
     "text": "==> Building model..\n",
     "output_type": "stream"
    },
    {
     "execution_count": 9,
     "output_type": "execute_result",
     "data": {
      "text/plain": "CNN_V1(\n  (cnn1): Conv2d(3, 32, kernel_size=(5, 5), stride=(1, 1), padding=(2, 2))\n  (conv1_bn): BatchNorm2d(32, eps=1e-05, momentum=0.1, affine=True, track_running_stats=True)\n  (maxpool1): MaxPool2d(kernel_size=2, stride=2, padding=0, dilation=1, ceil_mode=False)\n  (drop_conv): Dropout(p=0.2, inplace=False)\n  (cnn2): Conv2d(32, 64, kernel_size=(5, 5), stride=(1, 1), padding=(2, 2))\n  (conv2_bn): BatchNorm2d(64, eps=1e-05, momentum=0.1, affine=True, track_running_stats=True)\n  (maxpool2): MaxPool2d(kernel_size=2, stride=2, padding=0, dilation=1, ceil_mode=False)\n  (cnn3): Conv2d(64, 128, kernel_size=(5, 5), stride=(1, 1), padding=(2, 2))\n  (conv3_bn): BatchNorm2d(128, eps=1e-05, momentum=0.1, affine=True, track_running_stats=True)\n  (maxpool3): MaxPool2d(kernel_size=2, stride=2, padding=0, dilation=1, ceil_mode=False)\n  (fc1): Linear(in_features=2048, out_features=1000, bias=True)\n  (fc1_bn): BatchNorm1d(1000, eps=1e-05, momentum=0.1, affine=True, track_running_stats=True)\n  (drop): Dropout(p=0.5, inplace=False)\n  (fc2): Linear(in_features=1000, out_features=1000, bias=True)\n  (fc2_bn): BatchNorm1d(1000, eps=1e-05, momentum=0.1, affine=True, track_running_stats=True)\n  (fc3): Linear(in_features=1000, out_features=1000, bias=True)\n  (fc3_bn): BatchNorm1d(1000, eps=1e-05, momentum=0.1, affine=True, track_running_stats=True)\n  (fc4): Linear(in_features=1000, out_features=1000, bias=True)\n  (fc4_bn): BatchNorm1d(1000, eps=1e-05, momentum=0.1, affine=True, track_running_stats=True)\n  (fc5): Linear(in_features=1000, out_features=10, bias=True)\n  (fc5_bn): BatchNorm1d(10, eps=1e-05, momentum=0.1, affine=True, track_running_stats=True)\n)"
     },
     "metadata": {}
    }
   ]
  },
  {
   "cell_type": "code",
   "source": [
    "# 训练循环\n",
    "for epoch in range(start_epoch, start_epoch + 200):\n",
    "    net.train()\n",
    "    train_loss = 0\n",
    "    correct = 0\n",
    "    total = 0\n",
    "\n",
    "    for batch_idx, (inputs, targets) in enumerate(train_loader):\n",
    "        inputs, targets = inputs.to(device), targets.to(device)\n",
    "\n",
    "        optimizer.zero_grad()\n",
    "        outputs = net(inputs)\n",
    "        loss = criterion(outputs, targets)\n",
    "        loss.backward()\n",
    "        optimizer.step()\n",
    "\n",
    "        train_loss += loss.item()\n",
    "        _, predicted = outputs.max(1)\n",
    "        total += targets.size(0)\n",
    "        correct += predicted.eq(targets).sum().item()\n",
    "\n",
    "    train_accuracy = 100. * correct / total\n",
    "\n",
    "    # 验证模型\n",
    "    net.eval()\n",
    "    val_loss = 0\n",
    "    correct = 0\n",
    "    total = 0\n",
    "\n",
    "    with torch.no_grad():\n",
    "        for batch_idx, (inputs, targets) in enumerate(validation_loader):\n",
    "            inputs, targets = inputs.to(device), targets.to(device)\n",
    "\n",
    "            outputs = net(inputs)\n",
    "            loss = criterion(outputs, targets)\n",
    "\n",
    "            val_loss += loss.item()\n",
    "            _, predicted = outputs.max(1)\n",
    "            total += targets.size(0)\n",
    "            correct += predicted.eq(targets).sum().item()\n",
    "\n",
    "    val_accuracy = 100. * correct / total\n",
    "\n",
    "    print(\"--> Epoch Number : {}\".format(epoch + 1),\n",
    "          \" | Training Loss : {}\".format(round(train_loss / (batch_idx + 1), 4)),\n",
    "          \" | Validation Loss : {}\".format(round(val_loss / (batch_idx + 1), 4)),\n",
    "          \" | Training Accuracy : {}%\".format(round(train_accuracy, 2)),\n",
    "          \" | Validation Accuracy : {}%\".format(round(val_accuracy, 2)))\n",
    "\n",
    "    # 写入TensorBoard\n",
    "    writer.add_scalar('Loss/train', train_loss / (batch_idx + 1), epoch + 1)\n",
    "    writer.add_scalar('Loss/validation', val_loss / (batch_idx + 1), epoch + 1)\n",
    "    writer.add_scalar('Accuracy/train', train_accuracy, epoch + 1)\n",
    "    writer.add_scalar('Accuracy/validation', val_accuracy, epoch + 1)\n",
    "\n",
    "    # 保存模型\n",
    "    if val_accuracy > best_acc:\n",
    "        print('Saving model..')\n",
    "        state = {\n",
    "            'net': net.state_dict(),\n",
    "            'acc': val_accuracy,\n",
    "            'epoch': epoch,\n",
    "        }\n",
    "        torch.save(state, 'best_model.pth')\n",
    "        best_acc = val_accuracy\n",
    "\n",
    "    # 调整学习率\n",
    "    scheduler.step()\n",
    "\n",
    "writer.close()  # 关闭TensorBoard写入"
   ],
   "metadata": {
    "execution": {
     "iopub.status.busy": "2023-12-27T17:24:35.662203Z",
     "iopub.execute_input": "2023-12-27T17:24:35.662503Z",
     "iopub.status.idle": "2023-12-27T17:57:28.338526Z",
     "shell.execute_reply.started": "2023-12-27T17:24:35.662477Z",
     "shell.execute_reply": "2023-12-27T17:57:28.337372Z"
    },
    "trusted": true
   },
   "execution_count": 10,
   "outputs": [
    {
     "name": "stdout",
     "text": "--> Epoch Number : 1  | Training Loss : 8.8732  | Validation Loss : 1.5734  | Training Accuracy : 32.45%  | Validation Accuracy : 41.34%\nSaving model..\n--> Epoch Number : 2  | Training Loss : 7.2021  | Validation Loss : 1.2475  | Training Accuracy : 46.09%  | Validation Accuracy : 54.64%\nSaving model..\n--> Epoch Number : 3  | Training Loss : 6.2749  | Validation Loss : 1.1066  | Training Accuracy : 53.89%  | Validation Accuracy : 60.37%\nSaving model..\n--> Epoch Number : 4  | Training Loss : 5.7448  | Validation Loss : 1.055  | Training Accuracy : 58.49%  | Validation Accuracy : 62.47%\nSaving model..\n--> Epoch Number : 5  | Training Loss : 5.2441  | Validation Loss : 0.9664  | Training Accuracy : 62.27%  | Validation Accuracy : 66.4%\nSaving model..\n--> Epoch Number : 6  | Training Loss : 4.9335  | Validation Loss : 0.9112  | Training Accuracy : 65.02%  | Validation Accuracy : 68.28%\nSaving model..\n--> Epoch Number : 7  | Training Loss : 4.6906  | Validation Loss : 0.8859  | Training Accuracy : 66.8%  | Validation Accuracy : 69.3%\nSaving model..\n--> Epoch Number : 8  | Training Loss : 4.4698  | Validation Loss : 0.7506  | Training Accuracy : 68.49%  | Validation Accuracy : 73.78%\nSaving model..\n--> Epoch Number : 9  | Training Loss : 4.3284  | Validation Loss : 0.7962  | Training Accuracy : 69.49%  | Validation Accuracy : 71.87%\n--> Epoch Number : 10  | Training Loss : 4.2033  | Validation Loss : 0.7315  | Training Accuracy : 70.54%  | Validation Accuracy : 74.85%\nSaving model..\n--> Epoch Number : 11  | Training Loss : 4.1048  | Validation Loss : 0.7409  | Training Accuracy : 71.42%  | Validation Accuracy : 74.17%\n--> Epoch Number : 12  | Training Loss : 4.0325  | Validation Loss : 0.7843  | Training Accuracy : 71.86%  | Validation Accuracy : 72.43%\n--> Epoch Number : 13  | Training Loss : 3.9581  | Validation Loss : 0.7154  | Training Accuracy : 72.52%  | Validation Accuracy : 76.07%\nSaving model..\n--> Epoch Number : 14  | Training Loss : 3.9238  | Validation Loss : 0.7175  | Training Accuracy : 72.67%  | Validation Accuracy : 74.98%\n--> Epoch Number : 15  | Training Loss : 3.8796  | Validation Loss : 0.7387  | Training Accuracy : 72.98%  | Validation Accuracy : 74.54%\n--> Epoch Number : 16  | Training Loss : 3.8645  | Validation Loss : 0.7096  | Training Accuracy : 73.1%  | Validation Accuracy : 75.58%\n--> Epoch Number : 17  | Training Loss : 3.8302  | Validation Loss : 0.6793  | Training Accuracy : 73.46%  | Validation Accuracy : 76.51%\nSaving model..\n--> Epoch Number : 18  | Training Loss : 3.7905  | Validation Loss : 0.65  | Training Accuracy : 73.58%  | Validation Accuracy : 77.99%\nSaving model..\n--> Epoch Number : 19  | Training Loss : 3.7397  | Validation Loss : 0.6537  | Training Accuracy : 74.15%  | Validation Accuracy : 77.45%\n--> Epoch Number : 20  | Training Loss : 3.7423  | Validation Loss : 0.7487  | Training Accuracy : 74.3%  | Validation Accuracy : 74.48%\n--> Epoch Number : 21  | Training Loss : 3.7356  | Validation Loss : 0.7438  | Training Accuracy : 74.12%  | Validation Accuracy : 75.18%\n--> Epoch Number : 22  | Training Loss : 3.661  | Validation Loss : 0.7371  | Training Accuracy : 74.86%  | Validation Accuracy : 75.49%\n--> Epoch Number : 23  | Training Loss : 3.6501  | Validation Loss : 0.6645  | Training Accuracy : 74.85%  | Validation Accuracy : 77.64%\n--> Epoch Number : 24  | Training Loss : 3.6542  | Validation Loss : 0.6189  | Training Accuracy : 74.61%  | Validation Accuracy : 79.08%\nSaving model..\n--> Epoch Number : 25  | Training Loss : 3.5957  | Validation Loss : 0.6402  | Training Accuracy : 75.2%  | Validation Accuracy : 78.16%\n--> Epoch Number : 26  | Training Loss : 3.6361  | Validation Loss : 0.6547  | Training Accuracy : 74.94%  | Validation Accuracy : 77.77%\n--> Epoch Number : 27  | Training Loss : 3.6587  | Validation Loss : 0.7497  | Training Accuracy : 74.77%  | Validation Accuracy : 74.24%\n--> Epoch Number : 28  | Training Loss : 3.5844  | Validation Loss : 0.6157  | Training Accuracy : 75.37%  | Validation Accuracy : 79.2%\nSaving model..\n--> Epoch Number : 29  | Training Loss : 3.6049  | Validation Loss : 0.673  | Training Accuracy : 75.2%  | Validation Accuracy : 76.5%\n--> Epoch Number : 30  | Training Loss : 3.5739  | Validation Loss : 0.6239  | Training Accuracy : 75.29%  | Validation Accuracy : 78.94%\n--> Epoch Number : 31  | Training Loss : 3.5781  | Validation Loss : 0.6333  | Training Accuracy : 75.28%  | Validation Accuracy : 77.83%\n--> Epoch Number : 32  | Training Loss : 3.592  | Validation Loss : 0.6879  | Training Accuracy : 75.41%  | Validation Accuracy : 76.21%\n--> Epoch Number : 33  | Training Loss : 3.5659  | Validation Loss : 0.7752  | Training Accuracy : 75.39%  | Validation Accuracy : 73.19%\n--> Epoch Number : 34  | Training Loss : 3.5503  | Validation Loss : 0.6557  | Training Accuracy : 75.36%  | Validation Accuracy : 77.76%\n--> Epoch Number : 35  | Training Loss : 3.5915  | Validation Loss : 0.7248  | Training Accuracy : 75.4%  | Validation Accuracy : 75.19%\n--> Epoch Number : 36  | Training Loss : 3.5794  | Validation Loss : 0.6392  | Training Accuracy : 75.38%  | Validation Accuracy : 78.47%\n--> Epoch Number : 37  | Training Loss : 3.5096  | Validation Loss : 0.5904  | Training Accuracy : 75.72%  | Validation Accuracy : 80.22%\nSaving model..\n--> Epoch Number : 38  | Training Loss : 3.5467  | Validation Loss : 0.7645  | Training Accuracy : 75.66%  | Validation Accuracy : 74.79%\n--> Epoch Number : 39  | Training Loss : 3.5373  | Validation Loss : 0.657  | Training Accuracy : 75.58%  | Validation Accuracy : 77.63%\n--> Epoch Number : 40  | Training Loss : 3.5197  | Validation Loss : 0.612  | Training Accuracy : 75.94%  | Validation Accuracy : 79.23%\n--> Epoch Number : 41  | Training Loss : 3.4793  | Validation Loss : 0.6781  | Training Accuracy : 76.14%  | Validation Accuracy : 76.97%\n--> Epoch Number : 42  | Training Loss : 3.5067  | Validation Loss : 0.6339  | Training Accuracy : 76.02%  | Validation Accuracy : 78.0%\n--> Epoch Number : 43  | Training Loss : 3.5295  | Validation Loss : 0.6126  | Training Accuracy : 75.96%  | Validation Accuracy : 78.89%\n--> Epoch Number : 44  | Training Loss : 3.5334  | Validation Loss : 0.6183  | Training Accuracy : 75.79%  | Validation Accuracy : 78.83%\n--> Epoch Number : 45  | Training Loss : 3.4389  | Validation Loss : 0.6036  | Training Accuracy : 76.24%  | Validation Accuracy : 79.47%\n--> Epoch Number : 46  | Training Loss : 3.5149  | Validation Loss : 0.6073  | Training Accuracy : 75.76%  | Validation Accuracy : 79.11%\n--> Epoch Number : 47  | Training Loss : 3.4787  | Validation Loss : 0.6268  | Training Accuracy : 76.18%  | Validation Accuracy : 78.73%\n--> Epoch Number : 48  | Training Loss : 3.4909  | Validation Loss : 0.6287  | Training Accuracy : 76.11%  | Validation Accuracy : 78.28%\n--> Epoch Number : 49  | Training Loss : 3.4294  | Validation Loss : 0.6353  | Training Accuracy : 76.32%  | Validation Accuracy : 78.14%\n--> Epoch Number : 50  | Training Loss : 3.4598  | Validation Loss : 0.6105  | Training Accuracy : 76.14%  | Validation Accuracy : 79.35%\n--> Epoch Number : 51  | Training Loss : 3.4389  | Validation Loss : 0.6312  | Training Accuracy : 76.42%  | Validation Accuracy : 78.03%\n--> Epoch Number : 52  | Training Loss : 3.4546  | Validation Loss : 0.683  | Training Accuracy : 76.47%  | Validation Accuracy : 76.5%\n--> Epoch Number : 53  | Training Loss : 3.4527  | Validation Loss : 0.6119  | Training Accuracy : 76.36%  | Validation Accuracy : 79.47%\n--> Epoch Number : 54  | Training Loss : 3.4239  | Validation Loss : 0.5893  | Training Accuracy : 76.61%  | Validation Accuracy : 79.83%\n--> Epoch Number : 55  | Training Loss : 3.4601  | Validation Loss : 0.5771  | Training Accuracy : 76.07%  | Validation Accuracy : 80.53%\nSaving model..\n--> Epoch Number : 56  | Training Loss : 3.4343  | Validation Loss : 0.6396  | Training Accuracy : 76.51%  | Validation Accuracy : 78.51%\n--> Epoch Number : 57  | Training Loss : 3.4156  | Validation Loss : 0.626  | Training Accuracy : 76.58%  | Validation Accuracy : 78.75%\n--> Epoch Number : 58  | Training Loss : 3.4746  | Validation Loss : 0.7261  | Training Accuracy : 76.16%  | Validation Accuracy : 74.94%\n--> Epoch Number : 59  | Training Loss : 3.4198  | Validation Loss : 0.5746  | Training Accuracy : 76.47%  | Validation Accuracy : 80.21%\n--> Epoch Number : 60  | Training Loss : 3.4513  | Validation Loss : 0.6591  | Training Accuracy : 76.18%  | Validation Accuracy : 77.49%\n--> Epoch Number : 61  | Training Loss : 3.4358  | Validation Loss : 0.6365  | Training Accuracy : 76.53%  | Validation Accuracy : 78.59%\n--> Epoch Number : 62  | Training Loss : 3.3931  | Validation Loss : 0.6078  | Training Accuracy : 76.78%  | Validation Accuracy : 78.88%\n--> Epoch Number : 63  | Training Loss : 3.4082  | Validation Loss : 0.6304  | Training Accuracy : 76.68%  | Validation Accuracy : 78.91%\n--> Epoch Number : 64  | Training Loss : 3.3997  | Validation Loss : 0.6372  | Training Accuracy : 76.74%  | Validation Accuracy : 78.67%\n--> Epoch Number : 65  | Training Loss : 3.421  | Validation Loss : 0.62  | Training Accuracy : 76.5%  | Validation Accuracy : 78.65%\n--> Epoch Number : 66  | Training Loss : 3.4188  | Validation Loss : 0.6471  | Training Accuracy : 76.62%  | Validation Accuracy : 78.24%\n--> Epoch Number : 67  | Training Loss : 3.448  | Validation Loss : 0.5735  | Training Accuracy : 76.47%  | Validation Accuracy : 80.88%\nSaving model..\n--> Epoch Number : 68  | Training Loss : 3.4104  | Validation Loss : 0.5717  | Training Accuracy : 76.55%  | Validation Accuracy : 80.49%\n--> Epoch Number : 69  | Training Loss : 3.4219  | Validation Loss : 0.5784  | Training Accuracy : 76.36%  | Validation Accuracy : 80.63%\n--> Epoch Number : 70  | Training Loss : 3.3658  | Validation Loss : 0.6043  | Training Accuracy : 76.87%  | Validation Accuracy : 79.28%\n--> Epoch Number : 71  | Training Loss : 3.412  | Validation Loss : 0.5615  | Training Accuracy : 76.77%  | Validation Accuracy : 81.24%\nSaving model..\n--> Epoch Number : 72  | Training Loss : 3.4171  | Validation Loss : 0.8687  | Training Accuracy : 76.58%  | Validation Accuracy : 71.93%\n--> Epoch Number : 73  | Training Loss : 3.4129  | Validation Loss : 0.6069  | Training Accuracy : 76.56%  | Validation Accuracy : 78.19%\n--> Epoch Number : 74  | Training Loss : 3.4075  | Validation Loss : 0.6489  | Training Accuracy : 76.76%  | Validation Accuracy : 78.08%\n--> Epoch Number : 75  | Training Loss : 3.4299  | Validation Loss : 0.7422  | Training Accuracy : 76.59%  | Validation Accuracy : 74.99%\n--> Epoch Number : 76  | Training Loss : 3.4104  | Validation Loss : 0.6154  | Training Accuracy : 76.65%  | Validation Accuracy : 79.28%\n--> Epoch Number : 77  | Training Loss : 3.4242  | Validation Loss : 0.5546  | Training Accuracy : 76.65%  | Validation Accuracy : 81.25%\nSaving model..\n--> Epoch Number : 78  | Training Loss : 3.3777  | Validation Loss : 0.6777  | Training Accuracy : 76.77%  | Validation Accuracy : 77.19%\n--> Epoch Number : 79  | Training Loss : 3.3901  | Validation Loss : 0.6513  | Training Accuracy : 76.74%  | Validation Accuracy : 77.88%\n--> Epoch Number : 80  | Training Loss : 3.3966  | Validation Loss : 0.6635  | Training Accuracy : 76.81%  | Validation Accuracy : 78.03%\n--> Epoch Number : 81  | Training Loss : 3.3903  | Validation Loss : 0.6476  | Training Accuracy : 76.63%  | Validation Accuracy : 77.96%\n--> Epoch Number : 82  | Training Loss : 3.3948  | Validation Loss : 0.5982  | Training Accuracy : 76.77%  | Validation Accuracy : 79.67%\n--> Epoch Number : 83  | Training Loss : 3.3683  | Validation Loss : 0.6185  | Training Accuracy : 77.03%  | Validation Accuracy : 78.93%\n--> Epoch Number : 84  | Training Loss : 3.4066  | Validation Loss : 0.6662  | Training Accuracy : 76.8%  | Validation Accuracy : 77.56%\n--> Epoch Number : 85  | Training Loss : 3.3359  | Validation Loss : 0.529  | Training Accuracy : 77.21%  | Validation Accuracy : 81.95%\nSaving model..\n--> Epoch Number : 86  | Training Loss : 3.3719  | Validation Loss : 0.6845  | Training Accuracy : 77.08%  | Validation Accuracy : 77.08%\n--> Epoch Number : 87  | Training Loss : 3.3978  | Validation Loss : 0.5477  | Training Accuracy : 76.89%  | Validation Accuracy : 81.66%\n--> Epoch Number : 88  | Training Loss : 3.4286  | Validation Loss : 0.6754  | Training Accuracy : 76.47%  | Validation Accuracy : 77.66%\n--> Epoch Number : 89  | Training Loss : 3.3646  | Validation Loss : 0.7178  | Training Accuracy : 77.25%  | Validation Accuracy : 75.96%\n--> Epoch Number : 90  | Training Loss : 3.3692  | Validation Loss : 0.6369  | Training Accuracy : 76.9%  | Validation Accuracy : 78.37%\n--> Epoch Number : 91  | Training Loss : 3.4097  | Validation Loss : 0.7097  | Training Accuracy : 76.71%  | Validation Accuracy : 76.21%\n--> Epoch Number : 92  | Training Loss : 3.3731  | Validation Loss : 0.5601  | Training Accuracy : 76.92%  | Validation Accuracy : 80.86%\n--> Epoch Number : 93  | Training Loss : 3.4078  | Validation Loss : 0.5728  | Training Accuracy : 76.65%  | Validation Accuracy : 80.08%\n--> Epoch Number : 94  | Training Loss : 3.4274  | Validation Loss : 0.6516  | Training Accuracy : 76.76%  | Validation Accuracy : 77.52%\n--> Epoch Number : 95  | Training Loss : 3.3839  | Validation Loss : 0.6097  | Training Accuracy : 76.86%  | Validation Accuracy : 79.22%\n--> Epoch Number : 96  | Training Loss : 3.3632  | Validation Loss : 0.6085  | Training Accuracy : 76.95%  | Validation Accuracy : 79.62%\n--> Epoch Number : 97  | Training Loss : 3.3854  | Validation Loss : 0.8218  | Training Accuracy : 76.89%  | Validation Accuracy : 72.15%\n--> Epoch Number : 98  | Training Loss : 3.3795  | Validation Loss : 0.6477  | Training Accuracy : 76.69%  | Validation Accuracy : 78.41%\n--> Epoch Number : 99  | Training Loss : 3.3686  | Validation Loss : 0.6382  | Training Accuracy : 77.16%  | Validation Accuracy : 78.26%\n--> Epoch Number : 100  | Training Loss : 3.387  | Validation Loss : 0.5781  | Training Accuracy : 76.84%  | Validation Accuracy : 80.52%\n--> Epoch Number : 101  | Training Loss : 2.8138  | Validation Loss : 0.4331  | Training Accuracy : 80.81%  | Validation Accuracy : 85.56%\nSaving model..\n--> Epoch Number : 102  | Training Loss : 2.6048  | Validation Loss : 0.4338  | Training Accuracy : 82.27%  | Validation Accuracy : 85.2%\n--> Epoch Number : 103  | Training Loss : 2.5362  | Validation Loss : 0.4222  | Training Accuracy : 82.75%  | Validation Accuracy : 86.01%\nSaving model..\n--> Epoch Number : 104  | Training Loss : 2.4771  | Validation Loss : 0.4149  | Training Accuracy : 83.09%  | Validation Accuracy : 86.03%\nSaving model..\n--> Epoch Number : 105  | Training Loss : 2.428  | Validation Loss : 0.4127  | Training Accuracy : 83.32%  | Validation Accuracy : 86.09%\nSaving model..\n--> Epoch Number : 106  | Training Loss : 2.3744  | Validation Loss : 0.406  | Training Accuracy : 83.88%  | Validation Accuracy : 86.53%\nSaving model..\n--> Epoch Number : 107  | Training Loss : 2.3578  | Validation Loss : 0.4032  | Training Accuracy : 83.88%  | Validation Accuracy : 86.86%\nSaving model..\n--> Epoch Number : 108  | Training Loss : 2.3136  | Validation Loss : 0.4053  | Training Accuracy : 84.16%  | Validation Accuracy : 86.81%\n--> Epoch Number : 109  | Training Loss : 2.2835  | Validation Loss : 0.401  | Training Accuracy : 84.43%  | Validation Accuracy : 86.46%\n--> Epoch Number : 110  | Training Loss : 2.2436  | Validation Loss : 0.3994  | Training Accuracy : 84.86%  | Validation Accuracy : 86.51%\n--> Epoch Number : 111  | Training Loss : 2.2612  | Validation Loss : 0.4116  | Training Accuracy : 84.48%  | Validation Accuracy : 86.28%\n--> Epoch Number : 112  | Training Loss : 2.2129  | Validation Loss : 0.4066  | Training Accuracy : 84.82%  | Validation Accuracy : 86.41%\n--> Epoch Number : 113  | Training Loss : 2.1947  | Validation Loss : 0.398  | Training Accuracy : 85.0%  | Validation Accuracy : 86.73%\n--> Epoch Number : 114  | Training Loss : 2.1912  | Validation Loss : 0.3908  | Training Accuracy : 85.12%  | Validation Accuracy : 87.01%\nSaving model..\n--> Epoch Number : 115  | Training Loss : 2.1771  | Validation Loss : 0.4012  | Training Accuracy : 85.09%  | Validation Accuracy : 86.47%\n--> Epoch Number : 116  | Training Loss : 2.1423  | Validation Loss : 0.3863  | Training Accuracy : 85.13%  | Validation Accuracy : 86.94%\n--> Epoch Number : 117  | Training Loss : 2.1391  | Validation Loss : 0.3896  | Training Accuracy : 85.43%  | Validation Accuracy : 86.96%\n--> Epoch Number : 118  | Training Loss : 2.1085  | Validation Loss : 0.3942  | Training Accuracy : 85.79%  | Validation Accuracy : 87.01%\n--> Epoch Number : 119  | Training Loss : 2.1097  | Validation Loss : 0.4008  | Training Accuracy : 85.51%  | Validation Accuracy : 86.66%\n--> Epoch Number : 120  | Training Loss : 2.1241  | Validation Loss : 0.3848  | Training Accuracy : 85.31%  | Validation Accuracy : 87.2%\nSaving model..\n--> Epoch Number : 121  | Training Loss : 2.0934  | Validation Loss : 0.3925  | Training Accuracy : 85.76%  | Validation Accuracy : 86.76%\n--> Epoch Number : 122  | Training Loss : 2.0673  | Validation Loss : 0.3965  | Training Accuracy : 85.86%  | Validation Accuracy : 86.88%\n--> Epoch Number : 123  | Training Loss : 2.0901  | Validation Loss : 0.3768  | Training Accuracy : 85.59%  | Validation Accuracy : 87.46%\nSaving model..\n--> Epoch Number : 124  | Training Loss : 2.0649  | Validation Loss : 0.376  | Training Accuracy : 85.82%  | Validation Accuracy : 87.33%\n--> Epoch Number : 125  | Training Loss : 2.0688  | Validation Loss : 0.4108  | Training Accuracy : 85.71%  | Validation Accuracy : 86.05%\n--> Epoch Number : 126  | Training Loss : 2.0405  | Validation Loss : 0.3961  | Training Accuracy : 85.91%  | Validation Accuracy : 86.89%\n--> Epoch Number : 127  | Training Loss : 2.0335  | Validation Loss : 0.3874  | Training Accuracy : 86.07%  | Validation Accuracy : 87.2%\n--> Epoch Number : 128  | Training Loss : 2.0501  | Validation Loss : 0.383  | Training Accuracy : 86.02%  | Validation Accuracy : 87.26%\n--> Epoch Number : 129  | Training Loss : 2.0186  | Validation Loss : 0.3821  | Training Accuracy : 86.12%  | Validation Accuracy : 87.23%\n--> Epoch Number : 130  | Training Loss : 1.9812  | Validation Loss : 0.3829  | Training Accuracy : 86.28%  | Validation Accuracy : 87.11%\n--> Epoch Number : 131  | Training Loss : 2.0003  | Validation Loss : 0.3872  | Training Accuracy : 86.17%  | Validation Accuracy : 87.11%\n--> Epoch Number : 132  | Training Loss : 1.9882  | Validation Loss : 0.395  | Training Accuracy : 86.39%  | Validation Accuracy : 86.68%\n--> Epoch Number : 133  | Training Loss : 1.9982  | Validation Loss : 0.3861  | Training Accuracy : 86.2%  | Validation Accuracy : 86.92%\n--> Epoch Number : 134  | Training Loss : 1.9847  | Validation Loss : 0.3863  | Training Accuracy : 86.38%  | Validation Accuracy : 87.0%\n--> Epoch Number : 135  | Training Loss : 1.9786  | Validation Loss : 0.3773  | Training Accuracy : 86.44%  | Validation Accuracy : 87.47%\nSaving model..\n--> Epoch Number : 136  | Training Loss : 1.9534  | Validation Loss : 0.3885  | Training Accuracy : 86.43%  | Validation Accuracy : 86.71%\n--> Epoch Number : 137  | Training Loss : 1.9505  | Validation Loss : 0.411  | Training Accuracy : 86.47%  | Validation Accuracy : 86.33%\n--> Epoch Number : 138  | Training Loss : 1.9879  | Validation Loss : 0.387  | Training Accuracy : 86.16%  | Validation Accuracy : 87.05%\n--> Epoch Number : 139  | Training Loss : 1.9734  | Validation Loss : 0.3701  | Training Accuracy : 86.27%  | Validation Accuracy : 87.8%\nSaving model..\n--> Epoch Number : 140  | Training Loss : 1.9367  | Validation Loss : 0.3765  | Training Accuracy : 86.58%  | Validation Accuracy : 87.21%\n--> Epoch Number : 141  | Training Loss : 1.9481  | Validation Loss : 0.3816  | Training Accuracy : 86.62%  | Validation Accuracy : 87.33%\n--> Epoch Number : 142  | Training Loss : 1.9529  | Validation Loss : 0.3818  | Training Accuracy : 86.64%  | Validation Accuracy : 87.24%\n--> Epoch Number : 143  | Training Loss : 1.9529  | Validation Loss : 0.3721  | Training Accuracy : 86.68%  | Validation Accuracy : 87.45%\n--> Epoch Number : 144  | Training Loss : 1.9488  | Validation Loss : 0.3662  | Training Accuracy : 86.53%  | Validation Accuracy : 87.63%\n--> Epoch Number : 145  | Training Loss : 1.9265  | Validation Loss : 0.3772  | Training Accuracy : 86.6%  | Validation Accuracy : 87.6%\n--> Epoch Number : 146  | Training Loss : 1.9436  | Validation Loss : 0.3797  | Training Accuracy : 86.57%  | Validation Accuracy : 87.09%\n--> Epoch Number : 147  | Training Loss : 1.9355  | Validation Loss : 0.3606  | Training Accuracy : 86.79%  | Validation Accuracy : 88.0%\nSaving model..\n--> Epoch Number : 148  | Training Loss : 1.9182  | Validation Loss : 0.3656  | Training Accuracy : 86.85%  | Validation Accuracy : 87.53%\n--> Epoch Number : 149  | Training Loss : 1.9098  | Validation Loss : 0.3873  | Training Accuracy : 86.94%  | Validation Accuracy : 87.14%\n--> Epoch Number : 150  | Training Loss : 1.9186  | Validation Loss : 0.3634  | Training Accuracy : 86.78%  | Validation Accuracy : 88.07%\nSaving model..\n--> Epoch Number : 151  | Training Loss : 1.7695  | Validation Loss : 0.3574  | Training Accuracy : 87.89%  | Validation Accuracy : 88.31%\nSaving model..\n--> Epoch Number : 152  | Training Loss : 1.7443  | Validation Loss : 0.3478  | Training Accuracy : 87.91%  | Validation Accuracy : 88.43%\nSaving model..\n--> Epoch Number : 153  | Training Loss : 1.7062  | Validation Loss : 0.3503  | Training Accuracy : 88.24%  | Validation Accuracy : 88.45%\nSaving model..\n--> Epoch Number : 154  | Training Loss : 1.6998  | Validation Loss : 0.3483  | Training Accuracy : 88.49%  | Validation Accuracy : 88.58%\nSaving model..\n--> Epoch Number : 155  | Training Loss : 1.6776  | Validation Loss : 0.3497  | Training Accuracy : 88.42%  | Validation Accuracy : 88.41%\n--> Epoch Number : 156  | Training Loss : 1.6604  | Validation Loss : 0.351  | Training Accuracy : 88.54%  | Validation Accuracy : 88.67%\nSaving model..\n--> Epoch Number : 157  | Training Loss : 1.6662  | Validation Loss : 0.3506  | Training Accuracy : 88.54%  | Validation Accuracy : 88.54%\n--> Epoch Number : 158  | Training Loss : 1.6651  | Validation Loss : 0.3489  | Training Accuracy : 88.68%  | Validation Accuracy : 88.65%\n--> Epoch Number : 159  | Training Loss : 1.6434  | Validation Loss : 0.3532  | Training Accuracy : 88.65%  | Validation Accuracy : 88.52%\n--> Epoch Number : 160  | Training Loss : 1.6376  | Validation Loss : 0.3456  | Training Accuracy : 88.7%  | Validation Accuracy : 88.74%\nSaving model..\n--> Epoch Number : 161  | Training Loss : 1.6531  | Validation Loss : 0.3463  | Training Accuracy : 88.8%  | Validation Accuracy : 88.73%\n--> Epoch Number : 162  | Training Loss : 1.6264  | Validation Loss : 0.3505  | Training Accuracy : 88.73%  | Validation Accuracy : 88.67%\n--> Epoch Number : 163  | Training Loss : 1.6434  | Validation Loss : 0.3413  | Training Accuracy : 88.72%  | Validation Accuracy : 88.92%\nSaving model..\n--> Epoch Number : 164  | Training Loss : 1.6015  | Validation Loss : 0.3471  | Training Accuracy : 88.89%  | Validation Accuracy : 88.84%\n--> Epoch Number : 165  | Training Loss : 1.6236  | Validation Loss : 0.3488  | Training Accuracy : 88.85%  | Validation Accuracy : 88.72%\n--> Epoch Number : 166  | Training Loss : 1.6072  | Validation Loss : 0.345  | Training Accuracy : 88.99%  | Validation Accuracy : 88.81%\n--> Epoch Number : 167  | Training Loss : 1.5938  | Validation Loss : 0.3434  | Training Accuracy : 88.99%  | Validation Accuracy : 88.89%\n--> Epoch Number : 168  | Training Loss : 1.5907  | Validation Loss : 0.3501  | Training Accuracy : 89.03%  | Validation Accuracy : 88.83%\n--> Epoch Number : 169  | Training Loss : 1.5964  | Validation Loss : 0.3408  | Training Accuracy : 88.91%  | Validation Accuracy : 88.68%\n--> Epoch Number : 170  | Training Loss : 1.5988  | Validation Loss : 0.3459  | Training Accuracy : 89.04%  | Validation Accuracy : 88.73%\n--> Epoch Number : 171  | Training Loss : 1.5963  | Validation Loss : 0.3438  | Training Accuracy : 88.84%  | Validation Accuracy : 88.86%\n--> Epoch Number : 172  | Training Loss : 1.5829  | Validation Loss : 0.3427  | Training Accuracy : 88.91%  | Validation Accuracy : 88.87%\n--> Epoch Number : 173  | Training Loss : 1.5728  | Validation Loss : 0.3503  | Training Accuracy : 89.32%  | Validation Accuracy : 88.71%\n--> Epoch Number : 174  | Training Loss : 1.587  | Validation Loss : 0.3394  | Training Accuracy : 89.04%  | Validation Accuracy : 88.94%\nSaving model..\n--> Epoch Number : 175  | Training Loss : 1.5599  | Validation Loss : 0.3407  | Training Accuracy : 89.35%  | Validation Accuracy : 88.86%\n--> Epoch Number : 176  | Training Loss : 1.5652  | Validation Loss : 0.3475  | Training Accuracy : 89.23%  | Validation Accuracy : 88.89%\n--> Epoch Number : 177  | Training Loss : 1.5664  | Validation Loss : 0.3449  | Training Accuracy : 89.14%  | Validation Accuracy : 88.75%\n--> Epoch Number : 178  | Training Loss : 1.587  | Validation Loss : 0.3385  | Training Accuracy : 89.06%  | Validation Accuracy : 88.98%\nSaving model..\n--> Epoch Number : 179  | Training Loss : 1.5681  | Validation Loss : 0.3418  | Training Accuracy : 89.24%  | Validation Accuracy : 88.8%\n--> Epoch Number : 180  | Training Loss : 1.5493  | Validation Loss : 0.3421  | Training Accuracy : 89.35%  | Validation Accuracy : 88.72%\n--> Epoch Number : 181  | Training Loss : 1.5633  | Validation Loss : 0.3423  | Training Accuracy : 89.26%  | Validation Accuracy : 88.94%\n--> Epoch Number : 182  | Training Loss : 1.5424  | Validation Loss : 0.3392  | Training Accuracy : 89.45%  | Validation Accuracy : 88.84%\n--> Epoch Number : 183  | Training Loss : 1.5526  | Validation Loss : 0.3466  | Training Accuracy : 89.35%  | Validation Accuracy : 88.77%\n--> Epoch Number : 184  | Training Loss : 1.5452  | Validation Loss : 0.3481  | Training Accuracy : 89.39%  | Validation Accuracy : 88.71%\n--> Epoch Number : 185  | Training Loss : 1.5519  | Validation Loss : 0.3422  | Training Accuracy : 89.25%  | Validation Accuracy : 88.72%\n--> Epoch Number : 186  | Training Loss : 1.5136  | Validation Loss : 0.3413  | Training Accuracy : 89.63%  | Validation Accuracy : 88.81%\n--> Epoch Number : 187  | Training Loss : 1.5407  | Validation Loss : 0.3479  | Training Accuracy : 89.46%  | Validation Accuracy : 88.78%\n--> Epoch Number : 188  | Training Loss : 1.5213  | Validation Loss : 0.3409  | Training Accuracy : 89.41%  | Validation Accuracy : 88.92%\n--> Epoch Number : 189  | Training Loss : 1.5239  | Validation Loss : 0.3457  | Training Accuracy : 89.54%  | Validation Accuracy : 88.88%\n--> Epoch Number : 190  | Training Loss : 1.5569  | Validation Loss : 0.3455  | Training Accuracy : 89.18%  | Validation Accuracy : 88.74%\n--> Epoch Number : 191  | Training Loss : 1.5294  | Validation Loss : 0.3416  | Training Accuracy : 89.44%  | Validation Accuracy : 88.82%\n--> Epoch Number : 192  | Training Loss : 1.5226  | Validation Loss : 0.3449  | Training Accuracy : 89.54%  | Validation Accuracy : 88.79%\n--> Epoch Number : 193  | Training Loss : 1.5339  | Validation Loss : 0.3457  | Training Accuracy : 89.55%  | Validation Accuracy : 88.81%\n--> Epoch Number : 194  | Training Loss : 1.5034  | Validation Loss : 0.3403  | Training Accuracy : 89.56%  | Validation Accuracy : 88.91%\n--> Epoch Number : 195  | Training Loss : 1.5139  | Validation Loss : 0.3436  | Training Accuracy : 89.63%  | Validation Accuracy : 88.89%\n--> Epoch Number : 196  | Training Loss : 1.5267  | Validation Loss : 0.343  | Training Accuracy : 89.37%  | Validation Accuracy : 88.91%\n--> Epoch Number : 197  | Training Loss : 1.5142  | Validation Loss : 0.3443  | Training Accuracy : 89.58%  | Validation Accuracy : 88.82%\n--> Epoch Number : 198  | Training Loss : 1.5114  | Validation Loss : 0.3424  | Training Accuracy : 89.67%  | Validation Accuracy : 88.98%\n--> Epoch Number : 199  | Training Loss : 1.5065  | Validation Loss : 0.3402  | Training Accuracy : 89.6%  | Validation Accuracy : 88.94%\n--> Epoch Number : 200  | Training Loss : 1.5131  | Validation Loss : 0.3466  | Training Accuracy : 89.55%  | Validation Accuracy : 88.98%\n",
     "output_type": "stream"
    }
   ]
  },
  {
   "cell_type": "code",
   "source": [
    "# !kill 11341"
   ],
   "metadata": {
    "execution": {
     "iopub.status.busy": "2023-12-27T17:57:28.340355Z",
     "iopub.execute_input": "2023-12-27T17:57:28.340857Z",
     "iopub.status.idle": "2023-12-27T17:57:28.345734Z",
     "shell.execute_reply.started": "2023-12-27T17:57:28.340815Z",
     "shell.execute_reply": "2023-12-27T17:57:28.344814Z"
    },
    "trusted": true
   },
   "execution_count": 11,
   "outputs": []
  },
  {
   "cell_type": "code",
   "source": [
    "# %reload_ext tensorboard\n",
    "# %tensorboard --logdir=runs\n"
   ],
   "metadata": {
    "execution": {
     "iopub.status.busy": "2023-12-27T17:57:28.348230Z",
     "iopub.execute_input": "2023-12-27T17:57:28.348535Z",
     "iopub.status.idle": "2023-12-27T17:57:28.355444Z",
     "shell.execute_reply.started": "2023-12-27T17:57:28.348511Z",
     "shell.execute_reply": "2023-12-27T17:57:28.354566Z"
    },
    "trusted": true
   },
   "execution_count": 12,
   "outputs": []
  },
  {
   "cell_type": "code",
   "source": [
    "!zip -r runs.zip runs\n"
   ],
   "metadata": {
    "execution": {
     "iopub.status.busy": "2023-12-27T17:57:28.356578Z",
     "iopub.execute_input": "2023-12-27T17:57:28.356888Z",
     "iopub.status.idle": "2023-12-27T17:57:29.356688Z",
     "shell.execute_reply.started": "2023-12-27T17:57:28.356858Z",
     "shell.execute_reply": "2023-12-27T17:57:29.355626Z"
    },
    "trusted": true
   },
   "execution_count": 13,
   "outputs": [
    {
     "name": "stdout",
     "text": "  adding: runs/ (stored 0%)\n  adding: runs/Dec27_17-24-35_d99ce117a898/ (stored 0%)\n  adding: runs/Dec27_17-24-35_d99ce117a898/events.out.tfevents.1703697875.d99ce117a898.42.0 (deflated 70%)\n",
     "output_type": "stream"
    }
   ]
  },
  {
   "cell_type": "code",
   "source": [
    "# 加载最好的模型并进行测试\n",
    "print(\"Loading the best model for testing..\")\n",
    "# best_model = ResNet18()\n",
    "# best_model = MyResNet(3,10)\n",
    "best_model = CNN_V1(out_1=32, out_2=64, out_3=128, number_of_classes=10, p=0.5)\n",
    "best_model = best_model.to(device)\n",
    "best_model.load_state_dict(torch.load('best_model.pth')['net'])\n",
    "best_model.eval()\n",
    "\n",
    "test_loss = 0\n",
    "correct = 0\n",
    "total = 0\n",
    "\n",
    "all_preds = []\n",
    "all_targets = []\n",
    "\n",
    "with torch.no_grad():\n",
    "    for batch_idx, (inputs, targets) in enumerate(validation_loader):\n",
    "        inputs, targets = inputs.to(device), targets.to(device)\n",
    "\n",
    "        outputs = best_model(inputs)\n",
    "        loss = criterion(outputs, targets)\n",
    "\n",
    "        test_loss += loss.item()\n",
    "        _, predicted = outputs.max(1)\n",
    "        total += targets.size(0)\n",
    "        correct += predicted.eq(targets).sum().item()\n",
    "\n",
    "        all_preds.extend(predicted.cpu().numpy())\n",
    "        all_targets.extend(targets.cpu().numpy())\n",
    "\n",
    "test_accuracy = 100. * correct / total\n",
    "print('Test Accuracy: {:.2f}%'.format(test_accuracy))"
   ],
   "metadata": {
    "execution": {
     "iopub.status.busy": "2023-12-27T17:57:29.358162Z",
     "iopub.execute_input": "2023-12-27T17:57:29.358485Z",
     "iopub.status.idle": "2023-12-27T17:57:30.830234Z",
     "shell.execute_reply.started": "2023-12-27T17:57:29.358456Z",
     "shell.execute_reply": "2023-12-27T17:57:30.829108Z"
    },
    "trusted": true
   },
   "execution_count": 14,
   "outputs": [
    {
     "name": "stdout",
     "text": "Loading the best model for testing..\nTest Accuracy: 88.98%\n",
     "output_type": "stream"
    }
   ]
  },
  {
   "cell_type": "code",
   "source": [
    "# 计算混淆矩阵\n",
    "cm = confusion_matrix(all_targets, all_preds)\n",
    "\n",
    "# 可视化混淆矩阵\n",
    "plt.figure(figsize=(10, 8))\n",
    "sns.heatmap(cm, annot=True, fmt=\"d\", cmap=\"Blues\", xticklabels=classes, yticklabels=classes)\n",
    "plt.xlabel(\"Predicted Label\")\n",
    "plt.ylabel(\"True Label\")\n",
    "plt.title(\"Confusion Matrix\")\n",
    "plt.show()\n",
    "\n",
    "print(\"Training finished.\")"
   ],
   "metadata": {
    "execution": {
     "iopub.status.busy": "2023-12-27T17:57:30.831676Z",
     "iopub.execute_input": "2023-12-27T17:57:30.831981Z",
     "iopub.status.idle": "2023-12-27T17:57:31.756550Z",
     "shell.execute_reply.started": "2023-12-27T17:57:30.831952Z",
     "shell.execute_reply": "2023-12-27T17:57:31.755641Z"
    },
    "trusted": true
   },
   "execution_count": 15,
   "outputs": [
    {
     "output_type": "display_data",
     "data": {
      "text/plain": "<Figure size 1000x800 with 2 Axes>",
      "image/png": "[encoded data removed]"
     },
     "metadata": {}
    },
    {
     "name": "stdout",
     "text": "Training finished.\n",
     "output_type": "stream"
    }
   ]
  },
  {
   "cell_type": "code",
   "source": [
    "cm"
   ],
   "metadata": {
    "execution": {
     "iopub.status.busy": "2023-12-27T17:57:31.758040Z",
     "iopub.execute_input": "2023-12-27T17:57:31.758414Z",
     "iopub.status.idle": "2023-12-27T17:57:31.765812Z",
     "shell.execute_reply.started": "2023-12-27T17:57:31.758379Z",
     "shell.execute_reply": "2023-12-27T17:57:31.764891Z"
    },
    "trusted": true
   },
   "execution_count": 16,
   "outputs": [
    {
     "execution_count": 16,
     "output_type": "execute_result",
     "data": {
      "text/plain": "array([[894,   7,  29,   8,   7,   1,   6,   5,  34,   9],\n       [  9, 949,   2,   0,   0,   1,   2,   0,   9,  28],\n       [ 24,   0, 842,  16,  40,  29,  32,   8,   6,   3],\n       [ 10,   1,  32, 722,  38, 123,  46,  12,   9,   7],\n       [  5,   1,  20,  16, 898,  11,  22,  23,   4,   0],\n       [  4,   2,  16,  78,  25, 838,  10,  19,   4,   4],\n       [  4,   1,  14,  17,   6,  14, 939,   2,   3,   0],\n       [  4,   0,   8,  11,  20,  20,   0, 932,   0,   5],\n       [ 19,   4,   3,   2,   2,   1,   2,   1, 954,  12],\n       [  6,  29,   2,   4,   1,   0,   3,   4,  21, 930]])"
     },
     "metadata": {}
    }
   ]
  },
  {
   "cell_type": "code",
   "source": [
    "from sklearn.metrics import classification_report\n",
    "\n",
    "# 计算并打印分类报告\n",
    "report = classification_report(all_targets, all_preds, target_names=classes)\n",
    "print(report)\n"
   ],
   "metadata": {
    "execution": {
     "iopub.status.busy": "2023-12-27T17:57:31.766983Z",
     "iopub.execute_input": "2023-12-27T17:57:31.767260Z",
     "iopub.status.idle": "2023-12-27T17:57:31.808109Z",
     "shell.execute_reply.started": "2023-12-27T17:57:31.767236Z",
     "shell.execute_reply": "2023-12-27T17:57:31.807154Z"
    },
    "trusted": true
   },
   "execution_count": 17,
   "outputs": [
    {
     "name": "stdout",
     "text": "              precision    recall  f1-score   support\n\n       plane       0.91      0.89      0.90      1000\n         car       0.95      0.95      0.95      1000\n        bird       0.87      0.84      0.86      1000\n         cat       0.83      0.72      0.77      1000\n        deer       0.87      0.90      0.88      1000\n         dog       0.81      0.84      0.82      1000\n        frog       0.88      0.94      0.91      1000\n       horse       0.93      0.93      0.93      1000\n        ship       0.91      0.95      0.93      1000\n       truck       0.93      0.93      0.93      1000\n\n    accuracy                           0.89     10000\n   macro avg       0.89      0.89      0.89     10000\nweighted avg       0.89      0.89      0.89     10000\n\n",
     "output_type": "stream"
    }
   ]
  }
 ]
}
