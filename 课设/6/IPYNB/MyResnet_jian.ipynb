{
 "metadata": {
  "kernelspec": {
   "language": "python",
   "display_name": "Python 3",
   "name": "python3"
  },
  "language_info": {
   "name": "python",
   "version": "3.10.12",
   "mimetype": "text/x-python",
   "codemirror_mode": {
    "name": "ipython",
    "version": 3
   },
   "pygments_lexer": "ipython3",
   "nbconvert_exporter": "python",
   "file_extension": ".py"
  },
  "kaggle": {
   "accelerator": "gpu",
   "dataSources": [
    {
     "sourceId": 15444,
     "sourceType": "datasetVersion",
     "datasetId": 11102
    }
   ],
   "dockerImageVersionId": 30627,
   "isInternetEnabled": true,
   "language": "python",
   "sourceType": "notebook",
   "isGpuEnabled": true
  }
 },
 "nbformat_minor": 4,
 "nbformat": 4,
 "cells": [
  {
   "cell_type": "code",
   "source": [
    "# -*- coding: utf-8 -*-\n",
    "\"\"\"\n",
    "@File  : resnet.py\n",
    "@author: FxDr\n",
    "@Time  : 2023/12/27 20:50\n",
    "@Description:\n",
    "\"\"\"\n",
    "\n",
    "import torch\n",
    "import torch.nn as nn\n",
    "import torch.nn.functional as F\n",
    "\n",
    "\n",
    "class BasicBlock(nn.Module):\n",
    "    expansion = 1\n",
    "\n",
    "    def __init__(self, in_planes, planes, stride=1):\n",
    "        super(BasicBlock, self).__init__()\n",
    "        self.conv1 = nn.Conv2d(\n",
    "            in_planes, planes, kernel_size=3, stride=stride, padding=1, bias=False)\n",
    "        self.bn1 = nn.BatchNorm2d(planes)\n",
    "        self.conv2 = nn.Conv2d(planes, planes, kernel_size=3,\n",
    "                               stride=1, padding=1, bias=False)\n",
    "        self.bn2 = nn.BatchNorm2d(planes)\n",
    "\n",
    "        self.shortcut = nn.Sequential()\n",
    "        if stride != 1 or in_planes != self.expansion * planes:\n",
    "            self.shortcut = nn.Sequential(\n",
    "                nn.Conv2d(in_planes, self.expansion * planes,\n",
    "                          kernel_size=1, stride=stride, bias=False),\n",
    "                nn.BatchNorm2d(self.expansion * planes)\n",
    "            )\n",
    "\n",
    "    def forward(self, x):\n",
    "        out = F.relu(self.bn1(self.conv1(x)))\n",
    "        out = self.bn2(self.conv2(out))\n",
    "        out += self.shortcut(x)\n",
    "        out = F.relu(out)\n",
    "        return out\n",
    "\n",
    "\n",
    "class Bottleneck(nn.Module):\n",
    "    expansion = 4\n",
    "\n",
    "    def __init__(self, in_planes, planes, stride=1):\n",
    "        super(Bottleneck, self).__init__()\n",
    "        self.conv1 = nn.Conv2d(in_planes, planes, kernel_size=1, bias=False)\n",
    "        self.bn1 = nn.BatchNorm2d(planes)\n",
    "        self.conv2 = nn.Conv2d(planes, planes, kernel_size=3,\n",
    "                               stride=stride, padding=1, bias=False)\n",
    "        self.bn2 = nn.BatchNorm2d(planes)\n",
    "        self.conv3 = nn.Conv2d(planes, self.expansion *\n",
    "                               planes, kernel_size=1, bias=False)\n",
    "        self.bn3 = nn.BatchNorm2d(self.expansion * planes)\n",
    "\n",
    "        self.shortcut = nn.Sequential()\n",
    "        if stride != 1 or in_planes != self.expansion * planes:\n",
    "            self.shortcut = nn.Sequential(\n",
    "                nn.Conv2d(in_planes, self.expansion * planes,\n",
    "                          kernel_size=1, stride=stride, bias=False),\n",
    "                nn.BatchNorm2d(self.expansion * planes)\n",
    "            )\n",
    "\n",
    "    def forward(self, x):\n",
    "        out = F.relu(self.bn1(self.conv1(x)))\n",
    "        out = F.relu(self.bn2(self.conv2(out)))\n",
    "        out = self.bn3(self.conv3(out))\n",
    "        out += self.shortcut(x)\n",
    "        out = F.relu(out)\n",
    "        return out\n",
    "\n",
    "\n",
    "class ResNet(nn.Module):\n",
    "    def __init__(self, block, num_blocks, num_classes=10):\n",
    "        super(ResNet, self).__init__()\n",
    "        self.in_planes = 64\n",
    "\n",
    "        self.conv1 = nn.Conv2d(3, 64, kernel_size=3,\n",
    "                               stride=1, padding=1, bias=False)\n",
    "        self.bn1 = nn.BatchNorm2d(64)\n",
    "        self.layer1 = self._make_layer(block, 64, num_blocks[0], stride=1)\n",
    "        self.layer2 = self._make_layer(block, 128, num_blocks[1], stride=2)\n",
    "        self.layer3 = self._make_layer(block, 256, num_blocks[2], stride=2)\n",
    "        self.layer4 = self._make_layer(block, 512, num_blocks[3], stride=2)\n",
    "        self.linear = nn.Linear(512 * block.expansion, num_classes)\n",
    "\n",
    "    def _make_layer(self, block, planes, num_blocks, stride):\n",
    "        strides = [stride] + [1] * (num_blocks - 1)\n",
    "        layers = []\n",
    "        for stride in strides:\n",
    "            layers.append(block(self.in_planes, planes, stride))\n",
    "            self.in_planes = planes * block.expansion\n",
    "        return nn.Sequential(*layers)\n",
    "\n",
    "    def forward(self, x):\n",
    "        out = F.relu(self.bn1(self.conv1(x)))\n",
    "        out = self.layer1(out)\n",
    "        out = self.layer2(out)\n",
    "        out = self.layer3(out)\n",
    "        out = self.layer4(out)\n",
    "        out = F.avg_pool2d(out, 4)\n",
    "        out = out.view(out.size(0), -1)\n",
    "        out = self.linear(out)\n",
    "        return out\n",
    "\n",
    "\n",
    "def ResNet18():\n",
    "    return ResNet(BasicBlock, [2, 2, 2, 2])\n",
    "\n",
    "\n",
    "def ResNet34():\n",
    "    return ResNet(BasicBlock, [3, 4, 6, 3])\n",
    "\n",
    "\n",
    "def ResNet50():\n",
    "    return ResNet(Bottleneck, [3, 4, 6, 3])\n",
    "\n",
    "\n",
    "def ResNet101():\n",
    "    return ResNet(Bottleneck, [3, 4, 23, 3])\n",
    "\n",
    "\n",
    "def ResNet152():\n",
    "    return ResNet(Bottleneck, [3, 8, 36, 3])\n",
    "\n",
    "\n",
    "def test():\n",
    "    net = ResNet18()\n",
    "    y = net(torch.randn(1, 3, 32, 32))\n",
    "    print(y.size())\n"
   ],
   "metadata": {
    "_uuid": "8f2839f25d086af736a60e9eeb907d3b93b6e0e5",
    "_cell_guid": "b1076dfc-b9ad-4769-8c92-a6c4dae69d19",
    "execution": {
     "iopub.status.busy": "2023-12-27T16:19:37.574151Z",
     "iopub.execute_input": "2023-12-27T16:19:37.574837Z",
     "iopub.status.idle": "2023-12-27T16:19:40.904553Z",
     "shell.execute_reply.started": "2023-12-27T16:19:37.574808Z",
     "shell.execute_reply": "2023-12-27T16:19:40.903754Z"
    },
    "trusted": true
   },
   "execution_count": 1,
   "outputs": []
  },
  {
   "cell_type": "code",
   "source": [
    "# -*- coding: utf-8 -*-\n",
    "\"\"\"\n",
    "@File  : ResNet50.py\n",
    "@author: FxDr\n",
    "@Time  : 2023/12/28 0:10\n",
    "@Description:\n",
    "\"\"\"\n",
    "import torch.nn as nn\n",
    "\n",
    "\n",
    "def conv_block(in_channels, out_channels, pool=False):\n",
    "    layers = [nn.Conv2d(in_channels, out_channels, kernel_size=3, padding=1),\n",
    "              nn.BatchNorm2d(out_channels),\n",
    "              nn.ReLU(inplace=True)]\n",
    "    if pool:\n",
    "        layers.append(nn.MaxPool2d(2))\n",
    "    return nn.Sequential(*layers)\n",
    "\n",
    "\n",
    "class MyResNet(nn.Module):\n",
    "    def __init__(self, in_channels, num_classes):\n",
    "        super().__init__()\n",
    "        self.conv1 = conv_block(in_channels, 64)\n",
    "        self.conv2 = conv_block(64, 128, pool=True)\n",
    "        self.res1 = nn.Sequential(conv_block(128, 128), conv_block(128, 128))\n",
    "\n",
    "        self.conv3 = conv_block(128, 256, pool=True)\n",
    "        self.conv4 = conv_block(256, 512, pool=True)\n",
    "        self.res2 = nn.Sequential(conv_block(512, 512), conv_block(512, 512))\n",
    "\n",
    "        self.classifier = nn.Sequential(nn.MaxPool2d(4),\n",
    "                                        nn.Flatten(),\n",
    "                                        nn.Linear(512, num_classes))\n",
    "\n",
    "    def forward(self, xb):\n",
    "        out = self.conv1(xb)\n",
    "        out = self.conv2(out)\n",
    "        out = self.res1(out) + out\n",
    "        out = self.conv3(out)\n",
    "        out = self.conv4(out)\n",
    "        out = self.res2(out) + out\n",
    "        out = self.classifier(out)\n",
    "        return out\n"
   ],
   "metadata": {
    "execution": {
     "iopub.status.busy": "2023-12-27T16:19:43.619375Z",
     "iopub.execute_input": "2023-12-27T16:19:43.620403Z",
     "iopub.status.idle": "2023-12-27T16:19:43.632959Z",
     "shell.execute_reply.started": "2023-12-27T16:19:43.620357Z",
     "shell.execute_reply": "2023-12-27T16:19:43.631876Z"
    },
    "trusted": true
   },
   "execution_count": 2,
   "outputs": []
  },
  {
   "cell_type": "code",
   "source": [
    "# -*- coding: utf-8 -*-\n",
    "\"\"\"\n",
    "@File  : train.py\n",
    "@author: FxDr\n",
    "@Time  : 2023/12/27 20:50\n",
    "@Description: Training script with visualization and evaluation metrics\n",
    "\"\"\"\n",
    "\n",
    "import matplotlib.pyplot as plt\n",
    "import seaborn as sns\n",
    "import torch\n",
    "import torch.optim as optim\n",
    "import torchvision\n",
    "import torchvision.transforms as transforms\n",
    "from sklearn.metrics import confusion_matrix\n",
    "from torch.nn import DataParallel\n",
    "from torch.optim.lr_scheduler import MultiStepLR\n",
    "from torch.utils.data import DataLoader\n",
    "from torch.utils.tensorboard import SummaryWriter\n",
    "\n",
    "\n",
    "\n",
    "# 设置设备\n",
    "device = 'cuda' if torch.cuda.is_available() else 'cpu'\n",
    "best_acc = 0\n",
    "start_epoch = 0\n",
    "\n",
    "# 数据预处理\n",
    "print('==> Preparing data..')\n",
    "transform_train = transforms.Compose([\n",
    "    transforms.RandomCrop(32, padding=4),\n",
    "    transforms.RandomHorizontalFlip(),\n",
    "    transforms.ToTensor(),\n",
    "    transforms.Normalize((0.4914, 0.4822, 0.4465), (0.2023, 0.1994, 0.2010)),\n",
    "])\n",
    "\n",
    "transform_test = transforms.Compose([\n",
    "    transforms.ToTensor(),\n",
    "    transforms.Normalize((0.4914, 0.4822, 0.4465), (0.2023, 0.1994, 0.2010)),\n",
    "])\n",
    "\n",
    "train_dataset = torchvision.datasets.CIFAR10(\n",
    "    root='/kaggle/input/cifar10-python', train=True, download=True, transform=transform_train)\n",
    "train_loader = torch.utils.data.DataLoader(\n",
    "    train_dataset, batch_size=256, shuffle=True, num_workers=4)\n",
    "\n",
    "validation_dataset = torchvision.datasets.CIFAR10(\n",
    "    root='/kaggle/input/cifar10-python', train=False, download=True, transform=transform_test)\n",
    "validation_loader = torch.utils.data.DataLoader(\n",
    "    validation_dataset, batch_size=256, shuffle=False, num_workers=4)\n",
    "\n",
    "classes = ('plane', 'car', 'bird', 'cat', 'deer',\n",
    "           'dog', 'frog', 'horse', 'ship', 'truck')"
   ],
   "metadata": {
    "execution": {
     "iopub.status.busy": "2023-12-27T16:19:46.930315Z",
     "iopub.execute_input": "2023-12-27T16:19:46.931137Z",
     "iopub.status.idle": "2023-12-27T16:20:03.301146Z",
     "shell.execute_reply.started": "2023-12-27T16:19:46.931104Z",
     "shell.execute_reply": "2023-12-27T16:20:03.300165Z"
    },
    "trusted": true
   },
   "execution_count": 3,
   "outputs": [
    {
     "name": "stderr",
     "text": "/opt/conda/lib/python3.10/site-packages/scipy/__init__.py:146: UserWarning: A NumPy version >=1.16.5 and <1.23.0 is required for this version of SciPy (detected version 1.24.3\n  warnings.warn(f\"A NumPy version >={np_minversion} and <{np_maxversion}\"\n",
     "output_type": "stream"
    },
    {
     "name": "stdout",
     "text": "==> Preparing data..\nFiles already downloaded and verified\nFiles already downloaded and verified\n",
     "output_type": "stream"
    }
   ]
  },
  {
   "cell_type": "code",
   "source": [
    "# 构建模型\n",
    "print('==> Building model..')\n",
    "# net = ResNet18()\n",
    "net = MyResNet(3,10)\n",
    "\n",
    "# 使用DataParallel在多GPU上运行\n",
    "if torch.cuda.device_count() > 1:\n",
    "    print(\"Let's use\", torch.cuda.device_count(), \"GPUs!\")\n",
    "    net = DataParallel(net)\n",
    "\n",
    "net = net.to(device)\n",
    "\n",
    "# 定义损失函数和优化器\n",
    "criterion = torch.nn.CrossEntropyLoss()\n",
    "optimizer = optim.SGD(net.parameters(), lr=0.1, momentum=0.9, weight_decay=5e-4)\n",
    "\n",
    "# 定义学习率调整策略\n",
    "scheduler = MultiStepLR(optimizer, milestones=[100, 150], gamma=0.1)\n",
    "\n",
    "# TensorBoard可视化\n",
    "writer = SummaryWriter()\n",
    "net"
   ],
   "metadata": {
    "execution": {
     "iopub.status.busy": "2023-12-27T16:20:09.786055Z",
     "iopub.execute_input": "2023-12-27T16:20:09.787192Z",
     "iopub.status.idle": "2023-12-27T16:20:14.536974Z",
     "shell.execute_reply.started": "2023-12-27T16:20:09.787156Z",
     "shell.execute_reply": "2023-12-27T16:20:14.536127Z"
    },
    "trusted": true
   },
   "execution_count": 4,
   "outputs": [
    {
     "name": "stdout",
     "text": "==> Building model..\n",
     "output_type": "stream"
    },
    {
     "execution_count": 4,
     "output_type": "execute_result",
     "data": {
      "text/plain": "MyResNet(\n  (conv1): Sequential(\n    (0): Conv2d(3, 64, kernel_size=(3, 3), stride=(1, 1), padding=(1, 1))\n    (1): BatchNorm2d(64, eps=1e-05, momentum=0.1, affine=True, track_running_stats=True)\n    (2): ReLU(inplace=True)\n  )\n  (conv2): Sequential(\n    (0): Conv2d(64, 128, kernel_size=(3, 3), stride=(1, 1), padding=(1, 1))\n    (1): BatchNorm2d(128, eps=1e-05, momentum=0.1, affine=True, track_running_stats=True)\n    (2): ReLU(inplace=True)\n    (3): MaxPool2d(kernel_size=2, stride=2, padding=0, dilation=1, ceil_mode=False)\n  )\n  (res1): Sequential(\n    (0): Sequential(\n      (0): Conv2d(128, 128, kernel_size=(3, 3), stride=(1, 1), padding=(1, 1))\n      (1): BatchNorm2d(128, eps=1e-05, momentum=0.1, affine=True, track_running_stats=True)\n      (2): ReLU(inplace=True)\n    )\n    (1): Sequential(\n      (0): Conv2d(128, 128, kernel_size=(3, 3), stride=(1, 1), padding=(1, 1))\n      (1): BatchNorm2d(128, eps=1e-05, momentum=0.1, affine=True, track_running_stats=True)\n      (2): ReLU(inplace=True)\n    )\n  )\n  (conv3): Sequential(\n    (0): Conv2d(128, 256, kernel_size=(3, 3), stride=(1, 1), padding=(1, 1))\n    (1): BatchNorm2d(256, eps=1e-05, momentum=0.1, affine=True, track_running_stats=True)\n    (2): ReLU(inplace=True)\n    (3): MaxPool2d(kernel_size=2, stride=2, padding=0, dilation=1, ceil_mode=False)\n  )\n  (conv4): Sequential(\n    (0): Conv2d(256, 512, kernel_size=(3, 3), stride=(1, 1), padding=(1, 1))\n    (1): BatchNorm2d(512, eps=1e-05, momentum=0.1, affine=True, track_running_stats=True)\n    (2): ReLU(inplace=True)\n    (3): MaxPool2d(kernel_size=2, stride=2, padding=0, dilation=1, ceil_mode=False)\n  )\n  (res2): Sequential(\n    (0): Sequential(\n      (0): Conv2d(512, 512, kernel_size=(3, 3), stride=(1, 1), padding=(1, 1))\n      (1): BatchNorm2d(512, eps=1e-05, momentum=0.1, affine=True, track_running_stats=True)\n      (2): ReLU(inplace=True)\n    )\n    (1): Sequential(\n      (0): Conv2d(512, 512, kernel_size=(3, 3), stride=(1, 1), padding=(1, 1))\n      (1): BatchNorm2d(512, eps=1e-05, momentum=0.1, affine=True, track_running_stats=True)\n      (2): ReLU(inplace=True)\n    )\n  )\n  (classifier): Sequential(\n    (0): MaxPool2d(kernel_size=4, stride=4, padding=0, dilation=1, ceil_mode=False)\n    (1): Flatten(start_dim=1, end_dim=-1)\n    (2): Linear(in_features=512, out_features=10, bias=True)\n  )\n)"
     },
     "metadata": {}
    }
   ]
  },
  {
   "cell_type": "code",
   "source": [
    "# 训练循环\n",
    "for epoch in range(start_epoch, start_epoch + 200):\n",
    "    net.train()\n",
    "    train_loss = 0\n",
    "    correct = 0\n",
    "    total = 0\n",
    "\n",
    "    for batch_idx, (inputs, targets) in enumerate(train_loader):\n",
    "        inputs, targets = inputs.to(device), targets.to(device)\n",
    "\n",
    "        optimizer.zero_grad()\n",
    "        outputs = net(inputs)\n",
    "        loss = criterion(outputs, targets)\n",
    "        loss.backward()\n",
    "        optimizer.step()\n",
    "\n",
    "        train_loss += loss.item()\n",
    "        _, predicted = outputs.max(1)\n",
    "        total += targets.size(0)\n",
    "        correct += predicted.eq(targets).sum().item()\n",
    "\n",
    "    train_accuracy = 100. * correct / total\n",
    "\n",
    "    # 验证模型\n",
    "    net.eval()\n",
    "    val_loss = 0\n",
    "    correct = 0\n",
    "    total = 0\n",
    "\n",
    "    with torch.no_grad():\n",
    "        for batch_idx, (inputs, targets) in enumerate(validation_loader):\n",
    "            inputs, targets = inputs.to(device), targets.to(device)\n",
    "\n",
    "            outputs = net(inputs)\n",
    "            loss = criterion(outputs, targets)\n",
    "\n",
    "            val_loss += loss.item()\n",
    "            _, predicted = outputs.max(1)\n",
    "            total += targets.size(0)\n",
    "            correct += predicted.eq(targets).sum().item()\n",
    "\n",
    "    val_accuracy = 100. * correct / total\n",
    "\n",
    "    print(\"--> Epoch Number : {}\".format(epoch + 1),\n",
    "          \" | Training Loss : {}\".format(round(train_loss / (batch_idx + 1), 4)),\n",
    "          \" | Validation Loss : {}\".format(round(val_loss / (batch_idx + 1), 4)),\n",
    "          \" | Training Accuracy : {}%\".format(round(train_accuracy, 2)),\n",
    "          \" | Validation Accuracy : {}%\".format(round(val_accuracy, 2)))\n",
    "\n",
    "    # 写入TensorBoard\n",
    "    writer.add_scalar('Loss/train', train_loss / (batch_idx + 1), epoch + 1)\n",
    "    writer.add_scalar('Loss/validation', val_loss / (batch_idx + 1), epoch + 1)\n",
    "    writer.add_scalar('Accuracy/train', train_accuracy, epoch + 1)\n",
    "    writer.add_scalar('Accuracy/validation', val_accuracy, epoch + 1)\n",
    "\n",
    "    # 保存模型\n",
    "    if val_accuracy > best_acc:\n",
    "        print('Saving model..')\n",
    "        state = {\n",
    "            'net': net.state_dict(),\n",
    "            'acc': val_accuracy,\n",
    "            'epoch': epoch,\n",
    "        }\n",
    "        torch.save(state, 'best_model.pth')\n",
    "        best_acc = val_accuracy\n",
    "\n",
    "    # 调整学习率\n",
    "    scheduler.step()\n",
    "\n",
    "writer.close()  # 关闭TensorBoard写入"
   ],
   "metadata": {
    "execution": {
     "iopub.status.busy": "2023-12-27T16:20:58.494772Z",
     "iopub.execute_input": "2023-12-27T16:20:58.495701Z",
     "iopub.status.idle": "2023-12-27T17:12:24.213212Z",
     "shell.execute_reply.started": "2023-12-27T16:20:58.495656Z",
     "shell.execute_reply": "2023-12-27T17:12:24.212040Z"
    },
    "trusted": true
   },
   "execution_count": 5,
   "outputs": [
    {
     "name": "stdout",
     "text": "--> Epoch Number : 1  | Training Loss : 309.5107  | Validation Loss : 2.2893  | Training Accuracy : 11.26%  | Validation Accuracy : 10.35%\nSaving model..\n--> Epoch Number : 2  | Training Loss : 10.8051  | Validation Loss : 2.1514  | Training Accuracy : 15.63%  | Validation Accuracy : 18.1%\nSaving model..\n--> Epoch Number : 3  | Training Loss : 10.0481  | Validation Loss : 2.0938  | Training Accuracy : 21.0%  | Validation Accuracy : 20.7%\nSaving model..\n--> Epoch Number : 4  | Training Loss : 9.8486  | Validation Loss : 1.9627  | Training Accuracy : 23.38%  | Validation Accuracy : 24.61%\nSaving model..\n--> Epoch Number : 5  | Training Loss : 9.6235  | Validation Loss : 1.9904  | Training Accuracy : 25.0%  | Validation Accuracy : 24.85%\nSaving model..\n--> Epoch Number : 6  | Training Loss : 9.4794  | Validation Loss : 1.9742  | Training Accuracy : 25.91%  | Validation Accuracy : 25.13%\nSaving model..\n--> Epoch Number : 7  | Training Loss : 9.2519  | Validation Loss : 1.9064  | Training Accuracy : 28.28%  | Validation Accuracy : 28.18%\nSaving model..\n--> Epoch Number : 8  | Training Loss : 9.0464  | Validation Loss : 1.8641  | Training Accuracy : 30.3%  | Validation Accuracy : 29.34%\nSaving model..\n--> Epoch Number : 9  | Training Loss : 8.8674  | Validation Loss : 1.8496  | Training Accuracy : 31.66%  | Validation Accuracy : 30.94%\nSaving model..\n--> Epoch Number : 10  | Training Loss : 8.7961  | Validation Loss : 1.7528  | Training Accuracy : 32.37%  | Validation Accuracy : 35.11%\nSaving model..\n--> Epoch Number : 11  | Training Loss : 8.6022  | Validation Loss : 1.7548  | Training Accuracy : 34.36%  | Validation Accuracy : 33.14%\n--> Epoch Number : 12  | Training Loss : 8.4335  | Validation Loss : 1.6338  | Training Accuracy : 35.4%  | Validation Accuracy : 39.68%\nSaving model..\n--> Epoch Number : 13  | Training Loss : 8.2027  | Validation Loss : 1.62  | Training Accuracy : 37.68%  | Validation Accuracy : 39.67%\n--> Epoch Number : 14  | Training Loss : 7.8802  | Validation Loss : 1.5654  | Training Accuracy : 40.42%  | Validation Accuracy : 42.64%\nSaving model..\n--> Epoch Number : 15  | Training Loss : 7.6323  | Validation Loss : 1.5288  | Training Accuracy : 42.25%  | Validation Accuracy : 44.05%\nSaving model..\n--> Epoch Number : 16  | Training Loss : 7.2898  | Validation Loss : 1.4661  | Training Accuracy : 45.36%  | Validation Accuracy : 46.24%\nSaving model..\n--> Epoch Number : 17  | Training Loss : 6.9824  | Validation Loss : 1.4085  | Training Accuracy : 47.88%  | Validation Accuracy : 48.72%\nSaving model..\n--> Epoch Number : 18  | Training Loss : 6.6161  | Validation Loss : 1.3125  | Training Accuracy : 51.07%  | Validation Accuracy : 53.12%\nSaving model..\n--> Epoch Number : 19  | Training Loss : 6.2372  | Validation Loss : 1.2243  | Training Accuracy : 54.23%  | Validation Accuracy : 56.14%\nSaving model..\n--> Epoch Number : 20  | Training Loss : 5.7388  | Validation Loss : 1.1636  | Training Accuracy : 58.02%  | Validation Accuracy : 58.58%\nSaving model..\n--> Epoch Number : 21  | Training Loss : 5.3196  | Validation Loss : 1.0161  | Training Accuracy : 61.18%  | Validation Accuracy : 63.67%\nSaving model..\n--> Epoch Number : 22  | Training Loss : 4.7533  | Validation Loss : 1.1126  | Training Accuracy : 65.69%  | Validation Accuracy : 63.79%\nSaving model..\n--> Epoch Number : 23  | Training Loss : 4.366  | Validation Loss : 0.9816  | Training Accuracy : 68.58%  | Validation Accuracy : 67.67%\nSaving model..\n--> Epoch Number : 24  | Training Loss : 3.9807  | Validation Loss : 0.875  | Training Accuracy : 71.55%  | Validation Accuracy : 70.2%\nSaving model..\n--> Epoch Number : 25  | Training Loss : 3.7269  | Validation Loss : 0.9954  | Training Accuracy : 73.44%  | Validation Accuracy : 66.56%\n--> Epoch Number : 26  | Training Loss : 3.4949  | Validation Loss : 0.7132  | Training Accuracy : 75.04%  | Validation Accuracy : 75.21%\nSaving model..\n--> Epoch Number : 27  | Training Loss : 3.3222  | Validation Loss : 0.7505  | Training Accuracy : 76.24%  | Validation Accuracy : 73.49%\n--> Epoch Number : 28  | Training Loss : 3.161  | Validation Loss : 0.8378  | Training Accuracy : 77.29%  | Validation Accuracy : 71.92%\n--> Epoch Number : 29  | Training Loss : 3.0417  | Validation Loss : 1.1211  | Training Accuracy : 78.26%  | Validation Accuracy : 63.32%\n--> Epoch Number : 30  | Training Loss : 2.9721  | Validation Loss : 0.6934  | Training Accuracy : 78.93%  | Validation Accuracy : 75.97%\nSaving model..\n--> Epoch Number : 31  | Training Loss : 2.8347  | Validation Loss : 0.87  | Training Accuracy : 79.98%  | Validation Accuracy : 71.51%\n--> Epoch Number : 32  | Training Loss : 2.7342  | Validation Loss : 0.7141  | Training Accuracy : 80.72%  | Validation Accuracy : 74.97%\n--> Epoch Number : 33  | Training Loss : 2.7055  | Validation Loss : 0.9542  | Training Accuracy : 80.74%  | Validation Accuracy : 68.74%\n--> Epoch Number : 34  | Training Loss : 2.5808  | Validation Loss : 0.6378  | Training Accuracy : 81.75%  | Validation Accuracy : 77.81%\nSaving model..\n--> Epoch Number : 35  | Training Loss : 2.5217  | Validation Loss : 0.6962  | Training Accuracy : 82.18%  | Validation Accuracy : 76.58%\n--> Epoch Number : 36  | Training Loss : 2.4804  | Validation Loss : 0.5957  | Training Accuracy : 82.42%  | Validation Accuracy : 79.01%\nSaving model..\n--> Epoch Number : 37  | Training Loss : 2.4183  | Validation Loss : 0.6477  | Training Accuracy : 82.91%  | Validation Accuracy : 78.57%\n--> Epoch Number : 38  | Training Loss : 2.3558  | Validation Loss : 0.71  | Training Accuracy : 83.27%  | Validation Accuracy : 77.21%\n--> Epoch Number : 39  | Training Loss : 2.3125  | Validation Loss : 0.5977  | Training Accuracy : 83.56%  | Validation Accuracy : 80.0%\nSaving model..\n--> Epoch Number : 40  | Training Loss : 2.2238  | Validation Loss : 0.5906  | Training Accuracy : 84.16%  | Validation Accuracy : 79.16%\n--> Epoch Number : 41  | Training Loss : 2.1653  | Validation Loss : 0.5418  | Training Accuracy : 84.77%  | Validation Accuracy : 81.71%\nSaving model..\n--> Epoch Number : 42  | Training Loss : 2.1254  | Validation Loss : 0.6588  | Training Accuracy : 84.99%  | Validation Accuracy : 78.81%\n--> Epoch Number : 43  | Training Loss : 2.0719  | Validation Loss : 0.6736  | Training Accuracy : 85.43%  | Validation Accuracy : 78.27%\n--> Epoch Number : 44  | Training Loss : 2.119  | Validation Loss : 0.5339  | Training Accuracy : 85.21%  | Validation Accuracy : 81.3%\n--> Epoch Number : 45  | Training Loss : 2.023  | Validation Loss : 0.627  | Training Accuracy : 85.75%  | Validation Accuracy : 79.5%\n--> Epoch Number : 46  | Training Loss : 1.9669  | Validation Loss : 0.5111  | Training Accuracy : 86.3%  | Validation Accuracy : 83.29%\nSaving model..\n--> Epoch Number : 47  | Training Loss : 1.9504  | Validation Loss : 0.636  | Training Accuracy : 86.35%  | Validation Accuracy : 79.09%\n--> Epoch Number : 48  | Training Loss : 1.9387  | Validation Loss : 0.5673  | Training Accuracy : 86.34%  | Validation Accuracy : 81.49%\n--> Epoch Number : 49  | Training Loss : 1.8634  | Validation Loss : 0.761  | Training Accuracy : 86.97%  | Validation Accuracy : 76.49%\n--> Epoch Number : 50  | Training Loss : 1.8336  | Validation Loss : 0.6426  | Training Accuracy : 86.97%  | Validation Accuracy : 79.68%\n--> Epoch Number : 51  | Training Loss : 1.8461  | Validation Loss : 0.6588  | Training Accuracy : 86.87%  | Validation Accuracy : 78.86%\n--> Epoch Number : 52  | Training Loss : 1.8308  | Validation Loss : 0.4687  | Training Accuracy : 86.99%  | Validation Accuracy : 84.33%\nSaving model..\n--> Epoch Number : 53  | Training Loss : 1.7885  | Validation Loss : 0.5337  | Training Accuracy : 87.28%  | Validation Accuracy : 81.73%\n--> Epoch Number : 54  | Training Loss : 1.7262  | Validation Loss : 0.5725  | Training Accuracy : 87.88%  | Validation Accuracy : 80.37%\n--> Epoch Number : 55  | Training Loss : 1.7008  | Validation Loss : 0.5791  | Training Accuracy : 87.95%  | Validation Accuracy : 80.79%\n--> Epoch Number : 56  | Training Loss : 1.7177  | Validation Loss : 0.562  | Training Accuracy : 87.87%  | Validation Accuracy : 81.72%\n--> Epoch Number : 57  | Training Loss : 1.7274  | Validation Loss : 0.6408  | Training Accuracy : 87.7%  | Validation Accuracy : 79.47%\n--> Epoch Number : 58  | Training Loss : 1.6723  | Validation Loss : 0.5492  | Training Accuracy : 88.14%  | Validation Accuracy : 82.08%\n--> Epoch Number : 59  | Training Loss : 1.6096  | Validation Loss : 0.6613  | Training Accuracy : 88.61%  | Validation Accuracy : 79.3%\n--> Epoch Number : 60  | Training Loss : 1.5959  | Validation Loss : 0.6076  | Training Accuracy : 88.7%  | Validation Accuracy : 81.16%\n--> Epoch Number : 61  | Training Loss : 1.6082  | Validation Loss : 0.4929  | Training Accuracy : 88.62%  | Validation Accuracy : 83.58%\n--> Epoch Number : 62  | Training Loss : 1.5961  | Validation Loss : 0.785  | Training Accuracy : 88.79%  | Validation Accuracy : 76.89%\n--> Epoch Number : 63  | Training Loss : 1.5745  | Validation Loss : 0.6241  | Training Accuracy : 88.94%  | Validation Accuracy : 80.74%\n--> Epoch Number : 64  | Training Loss : 1.5214  | Validation Loss : 0.4952  | Training Accuracy : 89.31%  | Validation Accuracy : 83.76%\n--> Epoch Number : 65  | Training Loss : 1.5037  | Validation Loss : 0.5697  | Training Accuracy : 89.45%  | Validation Accuracy : 82.2%\n--> Epoch Number : 66  | Training Loss : 1.5312  | Validation Loss : 0.9075  | Training Accuracy : 89.03%  | Validation Accuracy : 73.83%\n--> Epoch Number : 67  | Training Loss : 1.5149  | Validation Loss : 0.5793  | Training Accuracy : 89.26%  | Validation Accuracy : 81.28%\n--> Epoch Number : 68  | Training Loss : 1.5133  | Validation Loss : 0.7125  | Training Accuracy : 89.25%  | Validation Accuracy : 79.15%\n--> Epoch Number : 69  | Training Loss : 1.5119  | Validation Loss : 0.5233  | Training Accuracy : 89.35%  | Validation Accuracy : 83.09%\n--> Epoch Number : 70  | Training Loss : 1.4394  | Validation Loss : 0.7294  | Training Accuracy : 89.74%  | Validation Accuracy : 78.0%\n--> Epoch Number : 71  | Training Loss : 1.5038  | Validation Loss : 0.5479  | Training Accuracy : 89.34%  | Validation Accuracy : 83.01%\n--> Epoch Number : 72  | Training Loss : 1.4296  | Validation Loss : 0.5408  | Training Accuracy : 89.9%  | Validation Accuracy : 83.28%\n--> Epoch Number : 73  | Training Loss : 1.4272  | Validation Loss : 0.7285  | Training Accuracy : 89.95%  | Validation Accuracy : 79.51%\n--> Epoch Number : 74  | Training Loss : 1.4461  | Validation Loss : 0.5429  | Training Accuracy : 89.81%  | Validation Accuracy : 82.17%\n--> Epoch Number : 75  | Training Loss : 1.4249  | Validation Loss : 0.4842  | Training Accuracy : 89.92%  | Validation Accuracy : 83.88%\n--> Epoch Number : 76  | Training Loss : 1.4308  | Validation Loss : 0.52  | Training Accuracy : 89.85%  | Validation Accuracy : 84.09%\n--> Epoch Number : 77  | Training Loss : 1.3791  | Validation Loss : 0.5122  | Training Accuracy : 90.21%  | Validation Accuracy : 84.0%\n--> Epoch Number : 78  | Training Loss : 1.3433  | Validation Loss : 0.5428  | Training Accuracy : 90.41%  | Validation Accuracy : 83.3%\n--> Epoch Number : 79  | Training Loss : 1.4031  | Validation Loss : 0.4297  | Training Accuracy : 89.92%  | Validation Accuracy : 85.47%\nSaving model..\n--> Epoch Number : 80  | Training Loss : 1.3537  | Validation Loss : 0.4785  | Training Accuracy : 90.46%  | Validation Accuracy : 84.22%\n--> Epoch Number : 81  | Training Loss : 1.3695  | Validation Loss : 0.5689  | Training Accuracy : 90.39%  | Validation Accuracy : 82.19%\n--> Epoch Number : 82  | Training Loss : 1.3933  | Validation Loss : 0.5199  | Training Accuracy : 90.13%  | Validation Accuracy : 83.55%\n--> Epoch Number : 83  | Training Loss : 1.3504  | Validation Loss : 0.755  | Training Accuracy : 90.38%  | Validation Accuracy : 77.41%\n--> Epoch Number : 84  | Training Loss : 1.3581  | Validation Loss : 0.622  | Training Accuracy : 90.26%  | Validation Accuracy : 80.32%\n--> Epoch Number : 85  | Training Loss : 1.3737  | Validation Loss : 0.5098  | Training Accuracy : 90.34%  | Validation Accuracy : 83.08%\n--> Epoch Number : 86  | Training Loss : 1.3409  | Validation Loss : 0.4696  | Training Accuracy : 90.59%  | Validation Accuracy : 84.37%\n--> Epoch Number : 87  | Training Loss : 1.3236  | Validation Loss : 0.673  | Training Accuracy : 90.66%  | Validation Accuracy : 78.25%\n--> Epoch Number : 88  | Training Loss : 1.303  | Validation Loss : 0.4249  | Training Accuracy : 90.76%  | Validation Accuracy : 86.57%\nSaving model..\n--> Epoch Number : 89  | Training Loss : 1.3042  | Validation Loss : 0.5558  | Training Accuracy : 90.78%  | Validation Accuracy : 82.75%\n--> Epoch Number : 90  | Training Loss : 1.3117  | Validation Loss : 0.4615  | Training Accuracy : 90.58%  | Validation Accuracy : 85.26%\n--> Epoch Number : 91  | Training Loss : 1.3057  | Validation Loss : 0.5158  | Training Accuracy : 90.77%  | Validation Accuracy : 83.33%\n--> Epoch Number : 92  | Training Loss : 1.2993  | Validation Loss : 0.4864  | Training Accuracy : 90.82%  | Validation Accuracy : 84.54%\n--> Epoch Number : 93  | Training Loss : 1.2706  | Validation Loss : 0.772  | Training Accuracy : 91.03%  | Validation Accuracy : 78.77%\n--> Epoch Number : 94  | Training Loss : 1.3103  | Validation Loss : 0.5192  | Training Accuracy : 90.79%  | Validation Accuracy : 83.54%\n--> Epoch Number : 95  | Training Loss : 1.279  | Validation Loss : 0.5297  | Training Accuracy : 90.98%  | Validation Accuracy : 84.23%\n--> Epoch Number : 96  | Training Loss : 1.2524  | Validation Loss : 0.5748  | Training Accuracy : 91.09%  | Validation Accuracy : 82.3%\n--> Epoch Number : 97  | Training Loss : 1.264  | Validation Loss : 0.4243  | Training Accuracy : 91.05%  | Validation Accuracy : 86.55%\n--> Epoch Number : 98  | Training Loss : 1.2738  | Validation Loss : 0.7079  | Training Accuracy : 90.87%  | Validation Accuracy : 78.5%\n--> Epoch Number : 99  | Training Loss : 1.2476  | Validation Loss : 0.4613  | Training Accuracy : 91.14%  | Validation Accuracy : 85.94%\n--> Epoch Number : 100  | Training Loss : 1.2162  | Validation Loss : 0.4449  | Training Accuracy : 91.41%  | Validation Accuracy : 85.87%\n--> Epoch Number : 101  | Training Loss : 0.6806  | Validation Loss : 0.25  | Training Accuracy : 95.27%  | Validation Accuracy : 91.45%\nSaving model..\n--> Epoch Number : 102  | Training Loss : 0.5029  | Validation Loss : 0.2432  | Training Accuracy : 96.64%  | Validation Accuracy : 92.04%\nSaving model..\n--> Epoch Number : 103  | Training Loss : 0.4386  | Validation Loss : 0.2508  | Training Accuracy : 97.08%  | Validation Accuracy : 92.08%\nSaving model..\n--> Epoch Number : 104  | Training Loss : 0.3823  | Validation Loss : 0.246  | Training Accuracy : 97.55%  | Validation Accuracy : 92.21%\nSaving model..\n--> Epoch Number : 105  | Training Loss : 0.3448  | Validation Loss : 0.251  | Training Accuracy : 97.67%  | Validation Accuracy : 92.19%\n--> Epoch Number : 106  | Training Loss : 0.3178  | Validation Loss : 0.2482  | Training Accuracy : 97.91%  | Validation Accuracy : 92.62%\nSaving model..\n--> Epoch Number : 107  | Training Loss : 0.2872  | Validation Loss : 0.2487  | Training Accuracy : 98.11%  | Validation Accuracy : 92.38%\n--> Epoch Number : 108  | Training Loss : 0.2654  | Validation Loss : 0.258  | Training Accuracy : 98.3%  | Validation Accuracy : 92.64%\nSaving model..\n--> Epoch Number : 109  | Training Loss : 0.2474  | Validation Loss : 0.2613  | Training Accuracy : 98.45%  | Validation Accuracy : 92.55%\n--> Epoch Number : 110  | Training Loss : 0.2316  | Validation Loss : 0.2576  | Training Accuracy : 98.51%  | Validation Accuracy : 92.77%\nSaving model..\n--> Epoch Number : 111  | Training Loss : 0.2115  | Validation Loss : 0.2579  | Training Accuracy : 98.68%  | Validation Accuracy : 92.44%\n--> Epoch Number : 112  | Training Loss : 0.1935  | Validation Loss : 0.2602  | Training Accuracy : 98.76%  | Validation Accuracy : 92.7%\n--> Epoch Number : 113  | Training Loss : 0.1931  | Validation Loss : 0.258  | Training Accuracy : 98.7%  | Validation Accuracy : 92.67%\n--> Epoch Number : 114  | Training Loss : 0.1714  | Validation Loss : 0.2744  | Training Accuracy : 98.92%  | Validation Accuracy : 92.73%\n--> Epoch Number : 115  | Training Loss : 0.1651  | Validation Loss : 0.2733  | Training Accuracy : 99.0%  | Validation Accuracy : 92.43%\n--> Epoch Number : 116  | Training Loss : 0.1527  | Validation Loss : 0.2634  | Training Accuracy : 99.09%  | Validation Accuracy : 92.79%\nSaving model..\n--> Epoch Number : 117  | Training Loss : 0.1473  | Validation Loss : 0.2662  | Training Accuracy : 99.12%  | Validation Accuracy : 92.89%\nSaving model..\n--> Epoch Number : 118  | Training Loss : 0.1479  | Validation Loss : 0.2818  | Training Accuracy : 99.04%  | Validation Accuracy : 92.51%\n--> Epoch Number : 119  | Training Loss : 0.1316  | Validation Loss : 0.2805  | Training Accuracy : 99.22%  | Validation Accuracy : 92.47%\n--> Epoch Number : 120  | Training Loss : 0.1235  | Validation Loss : 0.2866  | Training Accuracy : 99.23%  | Validation Accuracy : 92.32%\n--> Epoch Number : 121  | Training Loss : 0.1142  | Validation Loss : 0.2751  | Training Accuracy : 99.3%  | Validation Accuracy : 92.9%\nSaving model..\n--> Epoch Number : 122  | Training Loss : 0.1148  | Validation Loss : 0.2874  | Training Accuracy : 99.29%  | Validation Accuracy : 92.89%\n--> Epoch Number : 123  | Training Loss : 0.1077  | Validation Loss : 0.2793  | Training Accuracy : 99.41%  | Validation Accuracy : 92.79%\n--> Epoch Number : 124  | Training Loss : 0.1032  | Validation Loss : 0.2996  | Training Accuracy : 99.44%  | Validation Accuracy : 92.47%\n--> Epoch Number : 125  | Training Loss : 0.096  | Validation Loss : 0.2849  | Training Accuracy : 99.46%  | Validation Accuracy : 92.69%\n--> Epoch Number : 126  | Training Loss : 0.1026  | Validation Loss : 0.2841  | Training Accuracy : 99.4%  | Validation Accuracy : 92.79%\n--> Epoch Number : 127  | Training Loss : 0.0912  | Validation Loss : 0.2921  | Training Accuracy : 99.47%  | Validation Accuracy : 92.85%\n--> Epoch Number : 128  | Training Loss : 0.0902  | Validation Loss : 0.297  | Training Accuracy : 99.5%  | Validation Accuracy : 92.75%\n--> Epoch Number : 129  | Training Loss : 0.087  | Validation Loss : 0.2895  | Training Accuracy : 99.55%  | Validation Accuracy : 92.95%\nSaving model..\n--> Epoch Number : 130  | Training Loss : 0.0903  | Validation Loss : 0.3128  | Training Accuracy : 99.49%  | Validation Accuracy : 92.73%\n--> Epoch Number : 131  | Training Loss : 0.0871  | Validation Loss : 0.2955  | Training Accuracy : 99.51%  | Validation Accuracy : 92.79%\n--> Epoch Number : 132  | Training Loss : 0.089  | Validation Loss : 0.304  | Training Accuracy : 99.52%  | Validation Accuracy : 92.85%\n--> Epoch Number : 133  | Training Loss : 0.0785  | Validation Loss : 0.2997  | Training Accuracy : 99.59%  | Validation Accuracy : 92.52%\n--> Epoch Number : 134  | Training Loss : 0.0735  | Validation Loss : 0.2967  | Training Accuracy : 99.62%  | Validation Accuracy : 92.68%\n--> Epoch Number : 135  | Training Loss : 0.0697  | Validation Loss : 0.2924  | Training Accuracy : 99.64%  | Validation Accuracy : 92.72%\n--> Epoch Number : 136  | Training Loss : 0.0757  | Validation Loss : 0.2922  | Training Accuracy : 99.61%  | Validation Accuracy : 92.74%\n--> Epoch Number : 137  | Training Loss : 0.0759  | Validation Loss : 0.2961  | Training Accuracy : 99.6%  | Validation Accuracy : 92.59%\n--> Epoch Number : 138  | Training Loss : 0.0759  | Validation Loss : 0.307  | Training Accuracy : 99.6%  | Validation Accuracy : 92.44%\n--> Epoch Number : 139  | Training Loss : 0.0719  | Validation Loss : 0.3091  | Training Accuracy : 99.64%  | Validation Accuracy : 92.48%\n--> Epoch Number : 140  | Training Loss : 0.0675  | Validation Loss : 0.3089  | Training Accuracy : 99.67%  | Validation Accuracy : 92.77%\n--> Epoch Number : 141  | Training Loss : 0.0648  | Validation Loss : 0.3158  | Training Accuracy : 99.66%  | Validation Accuracy : 92.52%\n--> Epoch Number : 142  | Training Loss : 0.0673  | Validation Loss : 0.3151  | Training Accuracy : 99.65%  | Validation Accuracy : 92.57%\n--> Epoch Number : 143  | Training Loss : 0.0731  | Validation Loss : 0.3162  | Training Accuracy : 99.6%  | Validation Accuracy : 92.46%\n--> Epoch Number : 144  | Training Loss : 0.0678  | Validation Loss : 0.3103  | Training Accuracy : 99.65%  | Validation Accuracy : 92.53%\n--> Epoch Number : 145  | Training Loss : 0.0685  | Validation Loss : 0.3031  | Training Accuracy : 99.63%  | Validation Accuracy : 92.7%\n--> Epoch Number : 146  | Training Loss : 0.0609  | Validation Loss : 0.296  | Training Accuracy : 99.69%  | Validation Accuracy : 92.83%\n--> Epoch Number : 147  | Training Loss : 0.0752  | Validation Loss : 0.3073  | Training Accuracy : 99.58%  | Validation Accuracy : 92.69%\n--> Epoch Number : 148  | Training Loss : 0.078  | Validation Loss : 0.329  | Training Accuracy : 99.58%  | Validation Accuracy : 92.22%\n--> Epoch Number : 149  | Training Loss : 0.0766  | Validation Loss : 0.2994  | Training Accuracy : 99.56%  | Validation Accuracy : 92.51%\n--> Epoch Number : 150  | Training Loss : 0.0651  | Validation Loss : 0.3091  | Training Accuracy : 99.65%  | Validation Accuracy : 92.56%\n--> Epoch Number : 151  | Training Loss : 0.0483  | Validation Loss : 0.2966  | Training Accuracy : 99.81%  | Validation Accuracy : 92.81%\n--> Epoch Number : 152  | Training Loss : 0.041  | Validation Loss : 0.2936  | Training Accuracy : 99.83%  | Validation Accuracy : 92.9%\n--> Epoch Number : 153  | Training Loss : 0.038  | Validation Loss : 0.2887  | Training Accuracy : 99.86%  | Validation Accuracy : 93.05%\nSaving model..\n--> Epoch Number : 154  | Training Loss : 0.0348  | Validation Loss : 0.2899  | Training Accuracy : 99.89%  | Validation Accuracy : 93.04%\n--> Epoch Number : 155  | Training Loss : 0.0334  | Validation Loss : 0.2909  | Training Accuracy : 99.9%  | Validation Accuracy : 93.06%\nSaving model..\n--> Epoch Number : 156  | Training Loss : 0.0333  | Validation Loss : 0.2934  | Training Accuracy : 99.88%  | Validation Accuracy : 92.91%\n--> Epoch Number : 157  | Training Loss : 0.0306  | Validation Loss : 0.2896  | Training Accuracy : 99.9%  | Validation Accuracy : 93.08%\nSaving model..\n--> Epoch Number : 158  | Training Loss : 0.0292  | Validation Loss : 0.2898  | Training Accuracy : 99.91%  | Validation Accuracy : 93.01%\n--> Epoch Number : 159  | Training Loss : 0.0291  | Validation Loss : 0.2888  | Training Accuracy : 99.91%  | Validation Accuracy : 92.98%\n--> Epoch Number : 160  | Training Loss : 0.0288  | Validation Loss : 0.2882  | Training Accuracy : 99.92%  | Validation Accuracy : 93.05%\n--> Epoch Number : 161  | Training Loss : 0.0276  | Validation Loss : 0.2866  | Training Accuracy : 99.93%  | Validation Accuracy : 93.21%\nSaving model..\n--> Epoch Number : 162  | Training Loss : 0.0274  | Validation Loss : 0.2894  | Training Accuracy : 99.92%  | Validation Accuracy : 93.16%\n--> Epoch Number : 163  | Training Loss : 0.0267  | Validation Loss : 0.29  | Training Accuracy : 99.92%  | Validation Accuracy : 93.06%\n--> Epoch Number : 164  | Training Loss : 0.0258  | Validation Loss : 0.2888  | Training Accuracy : 99.94%  | Validation Accuracy : 93.08%\n--> Epoch Number : 165  | Training Loss : 0.0267  | Validation Loss : 0.2884  | Training Accuracy : 99.92%  | Validation Accuracy : 92.98%\n--> Epoch Number : 166  | Training Loss : 0.0251  | Validation Loss : 0.2897  | Training Accuracy : 99.94%  | Validation Accuracy : 93.03%\n--> Epoch Number : 167  | Training Loss : 0.0256  | Validation Loss : 0.2887  | Training Accuracy : 99.91%  | Validation Accuracy : 93.09%\n--> Epoch Number : 168  | Training Loss : 0.0254  | Validation Loss : 0.2842  | Training Accuracy : 99.94%  | Validation Accuracy : 93.19%\n--> Epoch Number : 169  | Training Loss : 0.0233  | Validation Loss : 0.2873  | Training Accuracy : 99.94%  | Validation Accuracy : 93.24%\nSaving model..\n--> Epoch Number : 170  | Training Loss : 0.025  | Validation Loss : 0.2863  | Training Accuracy : 99.93%  | Validation Accuracy : 93.2%\n--> Epoch Number : 171  | Training Loss : 0.0235  | Validation Loss : 0.2862  | Training Accuracy : 99.95%  | Validation Accuracy : 93.17%\n--> Epoch Number : 172  | Training Loss : 0.0218  | Validation Loss : 0.2867  | Training Accuracy : 99.95%  | Validation Accuracy : 93.25%\nSaving model..\n--> Epoch Number : 173  | Training Loss : 0.0217  | Validation Loss : 0.2884  | Training Accuracy : 99.97%  | Validation Accuracy : 93.21%\n--> Epoch Number : 174  | Training Loss : 0.0234  | Validation Loss : 0.2867  | Training Accuracy : 99.95%  | Validation Accuracy : 93.11%\n--> Epoch Number : 175  | Training Loss : 0.0227  | Validation Loss : 0.2874  | Training Accuracy : 99.96%  | Validation Accuracy : 93.14%\n--> Epoch Number : 176  | Training Loss : 0.0219  | Validation Loss : 0.2901  | Training Accuracy : 99.97%  | Validation Accuracy : 93.05%\n--> Epoch Number : 177  | Training Loss : 0.0227  | Validation Loss : 0.2872  | Training Accuracy : 99.94%  | Validation Accuracy : 93.04%\n--> Epoch Number : 178  | Training Loss : 0.0225  | Validation Loss : 0.2892  | Training Accuracy : 99.95%  | Validation Accuracy : 93.14%\n--> Epoch Number : 179  | Training Loss : 0.021  | Validation Loss : 0.2864  | Training Accuracy : 99.96%  | Validation Accuracy : 93.1%\n--> Epoch Number : 180  | Training Loss : 0.0214  | Validation Loss : 0.2887  | Training Accuracy : 99.95%  | Validation Accuracy : 93.02%\n--> Epoch Number : 181  | Training Loss : 0.0216  | Validation Loss : 0.2882  | Training Accuracy : 99.94%  | Validation Accuracy : 93.15%\n--> Epoch Number : 182  | Training Loss : 0.0211  | Validation Loss : 0.2856  | Training Accuracy : 99.96%  | Validation Accuracy : 93.07%\n--> Epoch Number : 183  | Training Loss : 0.0206  | Validation Loss : 0.2901  | Training Accuracy : 99.97%  | Validation Accuracy : 93.09%\n--> Epoch Number : 184  | Training Loss : 0.02  | Validation Loss : 0.285  | Training Accuracy : 99.97%  | Validation Accuracy : 93.14%\n--> Epoch Number : 185  | Training Loss : 0.0207  | Validation Loss : 0.2857  | Training Accuracy : 99.96%  | Validation Accuracy : 93.18%\n--> Epoch Number : 186  | Training Loss : 0.019  | Validation Loss : 0.2882  | Training Accuracy : 99.98%  | Validation Accuracy : 93.22%\n--> Epoch Number : 187  | Training Loss : 0.0223  | Validation Loss : 0.2876  | Training Accuracy : 99.95%  | Validation Accuracy : 93.26%\nSaving model..\n--> Epoch Number : 188  | Training Loss : 0.0229  | Validation Loss : 0.2859  | Training Accuracy : 99.94%  | Validation Accuracy : 93.05%\n--> Epoch Number : 189  | Training Loss : 0.0212  | Validation Loss : 0.2836  | Training Accuracy : 99.94%  | Validation Accuracy : 93.2%\n--> Epoch Number : 190  | Training Loss : 0.0208  | Validation Loss : 0.2854  | Training Accuracy : 99.96%  | Validation Accuracy : 93.14%\n--> Epoch Number : 191  | Training Loss : 0.0187  | Validation Loss : 0.2851  | Training Accuracy : 99.98%  | Validation Accuracy : 93.12%\n--> Epoch Number : 192  | Training Loss : 0.0206  | Validation Loss : 0.2877  | Training Accuracy : 99.96%  | Validation Accuracy : 93.09%\n--> Epoch Number : 193  | Training Loss : 0.0212  | Validation Loss : 0.2848  | Training Accuracy : 99.96%  | Validation Accuracy : 93.2%\n--> Epoch Number : 194  | Training Loss : 0.0194  | Validation Loss : 0.2869  | Training Accuracy : 99.96%  | Validation Accuracy : 93.06%\n--> Epoch Number : 195  | Training Loss : 0.0196  | Validation Loss : 0.2863  | Training Accuracy : 99.97%  | Validation Accuracy : 93.2%\n--> Epoch Number : 196  | Training Loss : 0.0207  | Validation Loss : 0.2901  | Training Accuracy : 99.94%  | Validation Accuracy : 93.22%\n--> Epoch Number : 197  | Training Loss : 0.0194  | Validation Loss : 0.2881  | Training Accuracy : 99.97%  | Validation Accuracy : 93.2%\n--> Epoch Number : 198  | Training Loss : 0.0187  | Validation Loss : 0.2871  | Training Accuracy : 99.96%  | Validation Accuracy : 93.29%\nSaving model..\n--> Epoch Number : 199  | Training Loss : 0.0185  | Validation Loss : 0.2852  | Training Accuracy : 99.97%  | Validation Accuracy : 93.22%\n--> Epoch Number : 200  | Training Loss : 0.0191  | Validation Loss : 0.2878  | Training Accuracy : 99.97%  | Validation Accuracy : 93.2%\n",
     "output_type": "stream"
    }
   ]
  },
  {
   "cell_type": "code",
   "source": [
    "!kill 11341"
   ],
   "metadata": {
    "execution": {
     "iopub.status.busy": "2023-12-27T15:16:15.521879Z",
     "iopub.execute_input": "2023-12-27T15:16:15.522252Z",
     "iopub.status.idle": "2023-12-27T15:16:16.504428Z",
     "shell.execute_reply.started": "2023-12-27T15:16:15.522223Z",
     "shell.execute_reply": "2023-12-27T15:16:16.503208Z"
    },
    "trusted": true
   },
   "execution_count": null,
   "outputs": []
  },
  {
   "cell_type": "code",
   "source": [
    "%reload_ext tensorboard\n",
    "%tensorboard --logdir=runs\n"
   ],
   "metadata": {
    "execution": {
     "iopub.status.busy": "2023-12-27T15:16:18.372002Z",
     "iopub.execute_input": "2023-12-27T15:16:18.372416Z",
     "iopub.status.idle": "2023-12-27T15:16:18.386344Z",
     "shell.execute_reply.started": "2023-12-27T15:16:18.372384Z",
     "shell.execute_reply": "2023-12-27T15:16:18.385369Z"
    },
    "trusted": true
   },
   "execution_count": null,
   "outputs": []
  },
  {
   "cell_type": "code",
   "source": [
    "!zip -r runs.zip runs\n"
   ],
   "metadata": {
    "execution": {
     "iopub.status.busy": "2023-12-27T17:12:41.914403Z",
     "iopub.execute_input": "2023-12-27T17:12:41.914780Z",
     "iopub.status.idle": "2023-12-27T17:12:42.911086Z",
     "shell.execute_reply.started": "2023-12-27T17:12:41.914751Z",
     "shell.execute_reply": "2023-12-27T17:12:42.909895Z"
    },
    "trusted": true
   },
   "execution_count": 6,
   "outputs": [
    {
     "name": "stdout",
     "text": "  adding: runs/ (stored 0%)\n  adding: runs/Dec27_16-20-14_2f2168275da3/ (stored 0%)\n  adding: runs/Dec27_16-20-14_2f2168275da3/events.out.tfevents.1703694014.2f2168275da3.42.0 (deflated 70%)\n",
     "output_type": "stream"
    }
   ]
  },
  {
   "cell_type": "code",
   "source": [
    "# 加载最好的模型并进行测试\n",
    "print(\"Loading the best model for testing..\")\n",
    "# best_model = ResNet18()\n",
    "best_model = MyResNet(3,10)\n",
    "best_model = best_model.to(device)\n",
    "best_model.load_state_dict(torch.load('best_model.pth')['net'])\n",
    "best_model.eval()\n",
    "\n",
    "test_loss = 0\n",
    "correct = 0\n",
    "total = 0\n",
    "\n",
    "all_preds = []\n",
    "all_targets = []\n",
    "\n",
    "with torch.no_grad():\n",
    "    for batch_idx, (inputs, targets) in enumerate(validation_loader):\n",
    "        inputs, targets = inputs.to(device), targets.to(device)\n",
    "\n",
    "        outputs = best_model(inputs)\n",
    "        loss = criterion(outputs, targets)\n",
    "\n",
    "        test_loss += loss.item()\n",
    "        _, predicted = outputs.max(1)\n",
    "        total += targets.size(0)\n",
    "        correct += predicted.eq(targets).sum().item()\n",
    "\n",
    "        all_preds.extend(predicted.cpu().numpy())\n",
    "        all_targets.extend(targets.cpu().numpy())\n",
    "\n",
    "test_accuracy = 100. * correct / total\n",
    "print('Test Accuracy: {:.2f}%'.format(test_accuracy))"
   ],
   "metadata": {
    "execution": {
     "iopub.status.busy": "2023-12-27T17:19:20.508701Z",
     "iopub.execute_input": "2023-12-27T17:19:20.509086Z",
     "iopub.status.idle": "2023-12-27T17:19:22.076714Z",
     "shell.execute_reply.started": "2023-12-27T17:19:20.509058Z",
     "shell.execute_reply": "2023-12-27T17:19:22.075532Z"
    },
    "trusted": true
   },
   "execution_count": 8,
   "outputs": [
    {
     "name": "stdout",
     "text": "Loading the best model for testing..\nTest Accuracy: 93.29%\n",
     "output_type": "stream"
    }
   ]
  },
  {
   "cell_type": "code",
   "source": [
    "# 计算混淆矩阵\n",
    "cm = confusion_matrix(all_targets, all_preds)\n",
    "\n",
    "# 可视化混淆矩阵\n",
    "plt.figure(figsize=(10, 8))\n",
    "sns.heatmap(cm, annot=True, fmt=\"d\", cmap=\"Blues\", xticklabels=classes, yticklabels=classes)\n",
    "plt.xlabel(\"Predicted Label\")\n",
    "plt.ylabel(\"True Label\")\n",
    "plt.title(\"Confusion Matrix\")\n",
    "plt.show()\n",
    "\n",
    "print(\"Training finished.\")"
   ],
   "metadata": {
    "execution": {
     "iopub.status.busy": "2023-12-27T17:19:25.070421Z",
     "iopub.execute_input": "2023-12-27T17:19:25.070834Z",
     "iopub.status.idle": "2023-12-27T17:19:25.660552Z",
     "shell.execute_reply.started": "2023-12-27T17:19:25.070800Z",
     "shell.execute_reply": "2023-12-27T17:19:25.659611Z"
    },
    "trusted": true
   },
   "execution_count": 9,
   "outputs": [
    {
     "output_type": "display_data",
     "data": {
      "text/plain": "<Figure size 1000x800 with 2 Axes>",
      "image/png": "[encoded data removed]"
     },
     "metadata": {}
    },
    {
     "name": "stdout",
     "text": "Training finished.\n",
     "output_type": "stream"
    }
   ]
  },
  {
   "cell_type": "code",
   "source": [
    "cm"
   ],
   "metadata": {
    "execution": {
     "iopub.status.busy": "2023-12-27T17:19:43.293991Z",
     "iopub.execute_input": "2023-12-27T17:19:43.294349Z",
     "iopub.status.idle": "2023-12-27T17:19:43.300974Z",
     "shell.execute_reply.started": "2023-12-27T17:19:43.294319Z",
     "shell.execute_reply": "2023-12-27T17:19:43.300074Z"
    },
    "trusted": true
   },
   "execution_count": 10,
   "outputs": [
    {
     "execution_count": 10,
     "output_type": "execute_result",
     "data": {
      "text/plain": "array([[947,   4,  13,   5,   3,   0,   1,   0,  22,   5],\n       [  5, 972,   0,   1,   1,   0,   0,   1,   2,  18],\n       [ 17,   0, 919,  15,  22,  11,  10,   4,   2,   0],\n       [  5,   0,  16, 847,  21,  74,  16,   9,   6,   6],\n       [  3,   0,  14,  17, 942,  12,   6,   6,   0,   0],\n       [  3,   0,   6,  76,  15, 885,   5,   8,   0,   2],\n       [  6,   2,   7,  23,   5,   4, 951,   0,   1,   1],\n       [  4,   2,   5,  10,  14,  14,   1, 946,   2,   2],\n       [ 19,   4,   2,   2,   0,   0,   2,   1, 962,   8],\n       [  5,  21,   0,   1,   1,   0,   0,   4,  10, 958]])"
     },
     "metadata": {}
    }
   ]
  },
  {
   "cell_type": "code",
   "source": [
    "from sklearn.metrics import classification_report\n",
    "\n",
    "# 计算并打印分类报告\n",
    "report = classification_report(all_targets, all_preds, target_names=classes)\n",
    "print(report)\n"
   ],
   "metadata": {
    "execution": {
     "iopub.status.busy": "2023-12-27T17:20:26.948687Z",
     "iopub.execute_input": "2023-12-27T17:20:26.949096Z",
     "iopub.status.idle": "2023-12-27T17:20:26.986947Z",
     "shell.execute_reply.started": "2023-12-27T17:20:26.949059Z",
     "shell.execute_reply": "2023-12-27T17:20:26.985964Z"
    },
    "trusted": true
   },
   "execution_count": 11,
   "outputs": [
    {
     "name": "stdout",
     "text": "              precision    recall  f1-score   support\n\n       plane       0.93      0.95      0.94      1000\n         car       0.97      0.97      0.97      1000\n        bird       0.94      0.92      0.93      1000\n         cat       0.85      0.85      0.85      1000\n        deer       0.92      0.94      0.93      1000\n         dog       0.89      0.89      0.89      1000\n        frog       0.96      0.95      0.95      1000\n       horse       0.97      0.95      0.96      1000\n        ship       0.96      0.96      0.96      1000\n       truck       0.96      0.96      0.96      1000\n\n    accuracy                           0.93     10000\n   macro avg       0.93      0.93      0.93     10000\nweighted avg       0.93      0.93      0.93     10000\n\n",
     "output_type": "stream"
    }
   ]
  }
 ]
}
